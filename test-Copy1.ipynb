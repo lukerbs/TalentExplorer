{
 "cells": [
  {
   "cell_type": "code",
   "execution_count": 22,
   "metadata": {},
   "outputs": [],
   "source": [
    "#from dotenv import load_dotenv\n",
    "import os\n",
    "import time\n",
    "\n",
    "from selenium.webdriver.common.by import By\n",
    "from selenium.common.exceptions import NoSuchElementException\n",
    "\n",
    "from src.util import build_driver, wait\n",
    "from src.login import login\n",
    "import json\n",
    "import requests\n",
    "import re\n",
    "from tqdm import tqdm \n"
   ]
  },
  {
   "cell_type": "code",
   "execution_count": 9,
   "metadata": {},
   "outputs": [],
   "source": [
    "# with open('./data/data_2.json', 'r') as json_file:\n",
    "#     data = json.load(json_file)\n",
    "#     employees = data['employees']\n",
    "    \n",
    "# for i,_ in enumerate(employees):\n",
    "#     employees[i]['name'] = None\n",
    "#     employees[i]['pfp'] = None\n",
    "#     employees[i]['job_title'] = None\n",
    "    \n",
    "    \n",
    "# data = {\n",
    "#     \"employees\": employees\n",
    "# }\n",
    "# with open(\"data/data_2.json\", \"w\") as json_file:\n",
    "#     # Write the dictionary to the JSON file\n",
    "#     json.dump(data, json_file, indent=4)\n",
    "    "
   ]
  },
  {
   "cell_type": "code",
   "execution_count": 62,
   "metadata": {},
   "outputs": [],
   "source": [
    "with open('./data/data_2.json', 'r') as json_file:\n",
    "    data = json.load(json_file)\n",
    "    employees = data['employees']\n",
    "    "
   ]
  },
  {
   "cell_type": "code",
   "execution_count": 57,
   "metadata": {},
   "outputs": [],
   "source": [
    "def remove_notification(s):\n",
    "    # This pattern matches any substring that starts and ends with parentheses and contains only digits inside\n",
    "    pattern = r'\\(\\d+\\)'\n",
    "    # Replace the pattern with an empty string\n",
    "    cleaned_string = re.sub(pattern, '', s)\n",
    "    return cleaned_string\n",
    "\n",
    "def get_pfp(url, path):\n",
    "    # Send a GET request to the image URL\n",
    "    response = requests.get(url)\n",
    "\n",
    "    # Check if the request was successful\n",
    "    if response.status_code == 200:\n",
    "        with open(path, \"wb\") as file:\n",
    "            file.write(response.content)\n",
    "    else:\n",
    "        raise Exception('Download Failed')"
   ]
  },
  {
   "cell_type": "code",
   "execution_count": 58,
   "metadata": {},
   "outputs": [],
   "source": [
    "# Initialize Chrome Driver\n",
    "driver = build_driver()\n",
    "\n",
    "# Load LinkedIn Username and Password\n",
    "USERNAME = os.getenv(\"USERNAME\")\n",
    "PASSWORD = os.getenv(\"PASSWORD\")"
   ]
  },
  {
   "cell_type": "code",
   "execution_count": 59,
   "metadata": {},
   "outputs": [],
   "source": [
    "driver.get(\"https://www.linkedin.com\")\n",
    "time.sleep(3)\n",
    "\n",
    "login(driver=driver, username=USERNAME, password=PASSWORD)\n",
    "\n"
   ]
  },
  {
   "cell_type": "code",
   "execution_count": 60,
   "metadata": {},
   "outputs": [
    {
     "name": "stderr",
     "output_type": "stream",
     "text": [
      " 11%|█████████                                                                      | 112/982 [01:26<54:46,  3.78s/it]"
     ]
    },
    {
     "name": "stdout",
     "output_type": "stream",
     "text": [
      "Message: no such element: Unable to locate element: {\"method\":\"xpath\",\"selector\":\"//img[@title=\"Mario Roberto Sánchez\"]\"}\n",
      "  (Session info: chrome=124.0.6367.201); For documentation on this error, please visit: https://www.selenium.dev/documentation/webdriver/troubleshooting/errors#no-such-element-exception\n",
      "Stacktrace:\n",
      "0   chromedriver                        0x000000010742ba78 chromedriver + 5216888\n",
      "1   chromedriver                        0x00000001074236b3 chromedriver + 5183155\n",
      "2   chromedriver                        0x0000000106f95527 chromedriver + 406823\n",
      "3   chromedriver                        0x0000000106fe0ff2 chromedriver + 716786\n",
      "4   chromedriver                        0x0000000106fe1181 chromedriver + 717185\n",
      "5   chromedriver                        0x00000001070251d4 chromedriver + 995796\n",
      "6   chromedriver                        0x000000010700372d chromedriver + 857901\n",
      "7   chromedriver                        0x00000001070226bf chromedriver + 984767\n",
      "8   chromedriver                        0x00000001070034a3 chromedriver + 857251\n",
      "9   chromedriver                        0x0000000106fd3fe3 chromedriver + 663523\n",
      "10  chromedriver                        0x0000000106fd492e chromedriver + 665902\n",
      "11  chromedriver                        0x00000001073e9990 chromedriver + 4946320\n",
      "12  chromedriver                        0x00000001073efa44 chromedriver + 4971076\n",
      "13  chromedriver                        0x00000001073ca48e chromedriver + 4818062\n",
      "14  chromedriver                        0x00000001073f0559 chromedriver + 4973913\n",
      "15  chromedriver                        0x00000001073ba714 chromedriver + 4753172\n",
      "16  chromedriver                        0x0000000107412c08 chromedriver + 5114888\n",
      "17  chromedriver                        0x0000000107412dc7 chromedriver + 5115335\n",
      "18  chromedriver                        0x00000001074232d3 chromedriver + 5182163\n",
      "19  libsystem_pthread.dylib             0x00007ff8173301d3 _pthread_start + 125\n",
      "20  libsystem_pthread.dylib             0x00007ff81732bbd3 thread_start + 15\n",
      "\n"
     ]
    },
    {
     "name": "stderr",
     "output_type": "stream",
     "text": [
      " 12%|████████▉                                                                    | 114/982 [01:39<1:08:19,  4.72s/it]"
     ]
    },
    {
     "name": "stdout",
     "output_type": "stream",
     "text": [
      "Message: no such element: Unable to locate element: {\"method\":\"xpath\",\"selector\":\"//img[@title=\"Archita P.\"]\"}\n",
      "  (Session info: chrome=124.0.6367.201); For documentation on this error, please visit: https://www.selenium.dev/documentation/webdriver/troubleshooting/errors#no-such-element-exception\n",
      "Stacktrace:\n",
      "0   chromedriver                        0x000000010742ba78 chromedriver + 5216888\n",
      "1   chromedriver                        0x00000001074236b3 chromedriver + 5183155\n",
      "2   chromedriver                        0x0000000106f95527 chromedriver + 406823\n",
      "3   chromedriver                        0x0000000106fe0ff2 chromedriver + 716786\n",
      "4   chromedriver                        0x0000000106fe1181 chromedriver + 717185\n",
      "5   chromedriver                        0x00000001070251d4 chromedriver + 995796\n",
      "6   chromedriver                        0x000000010700372d chromedriver + 857901\n",
      "7   chromedriver                        0x00000001070226bf chromedriver + 984767\n",
      "8   chromedriver                        0x00000001070034a3 chromedriver + 857251\n",
      "9   chromedriver                        0x0000000106fd3fe3 chromedriver + 663523\n",
      "10  chromedriver                        0x0000000106fd492e chromedriver + 665902\n",
      "11  chromedriver                        0x00000001073e9990 chromedriver + 4946320\n",
      "12  chromedriver                        0x00000001073efa44 chromedriver + 4971076\n",
      "13  chromedriver                        0x00000001073ca48e chromedriver + 4818062\n",
      "14  chromedriver                        0x00000001073f0559 chromedriver + 4973913\n",
      "15  chromedriver                        0x00000001073ba714 chromedriver + 4753172\n",
      "16  chromedriver                        0x0000000107412c08 chromedriver + 5114888\n",
      "17  chromedriver                        0x0000000107412dc7 chromedriver + 5115335\n",
      "18  chromedriver                        0x00000001074232d3 chromedriver + 5182163\n",
      "19  libsystem_pthread.dylib             0x00007ff8173301d3 _pthread_start + 125\n",
      "20  libsystem_pthread.dylib             0x00007ff81732bbd3 thread_start + 15\n",
      "\n"
     ]
    },
    {
     "name": "stderr",
     "output_type": "stream",
     "text": [
      " 13%|█████████▋                                                                   | 124/982 [02:47<1:37:18,  6.81s/it]"
     ]
    },
    {
     "name": "stdout",
     "output_type": "stream",
     "text": [
      "Failed to download profile picture\n"
     ]
    },
    {
     "name": "stderr",
     "output_type": "stream",
     "text": [
      " 13%|██████████                                                                   | 128/982 [03:16<1:43:27,  7.27s/it]"
     ]
    },
    {
     "name": "stdout",
     "output_type": "stream",
     "text": [
      "Message: no such element: Unable to locate element: {\"method\":\"xpath\",\"selector\":\"//img[@title=\"Josh Steinberg\"]\"}\n",
      "  (Session info: chrome=124.0.6367.201); For documentation on this error, please visit: https://www.selenium.dev/documentation/webdriver/troubleshooting/errors#no-such-element-exception\n",
      "Stacktrace:\n",
      "0   chromedriver                        0x000000010742ba78 chromedriver + 5216888\n",
      "1   chromedriver                        0x00000001074236b3 chromedriver + 5183155\n",
      "2   chromedriver                        0x0000000106f95527 chromedriver + 406823\n",
      "3   chromedriver                        0x0000000106fe0ff2 chromedriver + 716786\n",
      "4   chromedriver                        0x0000000106fe1181 chromedriver + 717185\n",
      "5   chromedriver                        0x00000001070251d4 chromedriver + 995796\n",
      "6   chromedriver                        0x000000010700372d chromedriver + 857901\n",
      "7   chromedriver                        0x00000001070226bf chromedriver + 984767\n",
      "8   chromedriver                        0x00000001070034a3 chromedriver + 857251\n",
      "9   chromedriver                        0x0000000106fd3fe3 chromedriver + 663523\n",
      "10  chromedriver                        0x0000000106fd492e chromedriver + 665902\n",
      "11  chromedriver                        0x00000001073e9990 chromedriver + 4946320\n",
      "12  chromedriver                        0x00000001073efa44 chromedriver + 4971076\n",
      "13  chromedriver                        0x00000001073ca48e chromedriver + 4818062\n",
      "14  chromedriver                        0x00000001073f0559 chromedriver + 4973913\n",
      "15  chromedriver                        0x00000001073ba714 chromedriver + 4753172\n",
      "16  chromedriver                        0x0000000107412c08 chromedriver + 5114888\n",
      "17  chromedriver                        0x0000000107412dc7 chromedriver + 5115335\n",
      "18  chromedriver                        0x00000001074232d3 chromedriver + 5182163\n",
      "19  libsystem_pthread.dylib             0x00007ff8173301d3 _pthread_start + 125\n",
      "20  libsystem_pthread.dylib             0x00007ff81732bbd3 thread_start + 15\n",
      "\n"
     ]
    },
    {
     "name": "stderr",
     "output_type": "stream",
     "text": [
      " 13%|██████████▏                                                                  | 130/982 [03:32<1:50:42,  7.80s/it]"
     ]
    },
    {
     "name": "stdout",
     "output_type": "stream",
     "text": [
      "Failed to download profile picture\n"
     ]
    },
    {
     "name": "stderr",
     "output_type": "stream",
     "text": [
      " 14%|██████████▉                                                                  | 139/982 [04:35<1:44:19,  7.43s/it]"
     ]
    },
    {
     "name": "stdout",
     "output_type": "stream",
     "text": [
      "Failed to download profile picture\n"
     ]
    },
    {
     "name": "stderr",
     "output_type": "stream",
     "text": [
      " 14%|██████████▉                                                                  | 140/982 [04:42<1:41:24,  7.23s/it]"
     ]
    },
    {
     "name": "stdout",
     "output_type": "stream",
     "text": [
      "Failed to download profile picture\n"
     ]
    },
    {
     "name": "stderr",
     "output_type": "stream",
     "text": [
      " 14%|███████████▏                                                                 | 142/982 [04:57<1:41:56,  7.28s/it]"
     ]
    },
    {
     "name": "stdout",
     "output_type": "stream",
     "text": [
      "Failed to download profile picture\n"
     ]
    },
    {
     "name": "stderr",
     "output_type": "stream",
     "text": [
      " 16%|████████████▏                                                                | 155/982 [06:22<1:32:55,  6.74s/it]"
     ]
    },
    {
     "name": "stdout",
     "output_type": "stream",
     "text": [
      "Failed to download profile picture\n"
     ]
    },
    {
     "name": "stderr",
     "output_type": "stream",
     "text": [
      " 16%|████████████▍                                                                | 158/982 [06:42<1:31:40,  6.68s/it]"
     ]
    },
    {
     "name": "stdout",
     "output_type": "stream",
     "text": [
      "Failed to download profile picture\n"
     ]
    },
    {
     "name": "stderr",
     "output_type": "stream",
     "text": [
      " 16%|████████████▌                                                                | 160/982 [06:55<1:28:00,  6.42s/it]"
     ]
    },
    {
     "name": "stdout",
     "output_type": "stream",
     "text": [
      "Message: no such element: Unable to locate element: {\"method\":\"xpath\",\"selector\":\"//img[@title=\"Sam Asres\"]\"}\n",
      "  (Session info: chrome=124.0.6367.201); For documentation on this error, please visit: https://www.selenium.dev/documentation/webdriver/troubleshooting/errors#no-such-element-exception\n",
      "Stacktrace:\n",
      "0   chromedriver                        0x000000010742ba78 chromedriver + 5216888\n",
      "1   chromedriver                        0x00000001074236b3 chromedriver + 5183155\n",
      "2   chromedriver                        0x0000000106f95527 chromedriver + 406823\n",
      "3   chromedriver                        0x0000000106fe0ff2 chromedriver + 716786\n",
      "4   chromedriver                        0x0000000106fe1181 chromedriver + 717185\n",
      "5   chromedriver                        0x00000001070251d4 chromedriver + 995796\n",
      "6   chromedriver                        0x000000010700372d chromedriver + 857901\n",
      "7   chromedriver                        0x00000001070226bf chromedriver + 984767\n",
      "8   chromedriver                        0x00000001070034a3 chromedriver + 857251\n",
      "9   chromedriver                        0x0000000106fd3fe3 chromedriver + 663523\n",
      "10  chromedriver                        0x0000000106fd492e chromedriver + 665902\n",
      "11  chromedriver                        0x00000001073e9990 chromedriver + 4946320\n",
      "12  chromedriver                        0x00000001073efa44 chromedriver + 4971076\n",
      "13  chromedriver                        0x00000001073ca48e chromedriver + 4818062\n",
      "14  chromedriver                        0x00000001073f0559 chromedriver + 4973913\n",
      "15  chromedriver                        0x00000001073ba714 chromedriver + 4753172\n",
      "16  chromedriver                        0x0000000107412c08 chromedriver + 5114888\n",
      "17  chromedriver                        0x0000000107412dc7 chromedriver + 5115335\n",
      "18  chromedriver                        0x00000001074232d3 chromedriver + 5182163\n",
      "19  libsystem_pthread.dylib             0x00007ff8173301d3 _pthread_start + 125\n",
      "20  libsystem_pthread.dylib             0x00007ff81732bbd3 thread_start + 15\n",
      "\n"
     ]
    },
    {
     "name": "stderr",
     "output_type": "stream",
     "text": [
      " 18%|█████████████▋                                                               | 174/982 [08:22<1:24:00,  6.24s/it]"
     ]
    },
    {
     "name": "stdout",
     "output_type": "stream",
     "text": [
      "Failed to download profile picture\n"
     ]
    },
    {
     "name": "stderr",
     "output_type": "stream",
     "text": [
      " 19%|██████████████▋                                                              | 187/982 [09:44<1:22:10,  6.20s/it]"
     ]
    },
    {
     "name": "stdout",
     "output_type": "stream",
     "text": [
      "Failed to download profile picture\n"
     ]
    },
    {
     "name": "stderr",
     "output_type": "stream",
     "text": [
      " 21%|███████████████▊                                                             | 202/982 [11:19<1:21:24,  6.26s/it]"
     ]
    },
    {
     "name": "stdout",
     "output_type": "stream",
     "text": [
      "Failed to download profile picture\n"
     ]
    },
    {
     "name": "stderr",
     "output_type": "stream",
     "text": [
      " 22%|████████████████▋                                                            | 213/982 [12:27<1:19:41,  6.22s/it]"
     ]
    },
    {
     "name": "stdout",
     "output_type": "stream",
     "text": [
      "Failed to download profile picture\n"
     ]
    },
    {
     "name": "stderr",
     "output_type": "stream",
     "text": [
      " 22%|█████████████████                                                            | 217/982 [12:52<1:19:36,  6.24s/it]"
     ]
    },
    {
     "name": "stdout",
     "output_type": "stream",
     "text": [
      "Failed to download profile picture\n"
     ]
    },
    {
     "name": "stderr",
     "output_type": "stream",
     "text": [
      " 22%|█████████████████                                                            | 218/982 [12:59<1:19:49,  6.27s/it]"
     ]
    },
    {
     "name": "stdout",
     "output_type": "stream",
     "text": [
      "Failed to download profile picture\n"
     ]
    },
    {
     "name": "stderr",
     "output_type": "stream",
     "text": [
      " 23%|█████████████████▎                                                           | 221/982 [13:17<1:19:23,  6.26s/it]"
     ]
    },
    {
     "name": "stdout",
     "output_type": "stream",
     "text": [
      "Message: no such element: Unable to locate element: {\"method\":\"xpath\",\"selector\":\"//img[@title=\"Ivana Jovanović\"]\"}\n",
      "  (Session info: chrome=124.0.6367.201); For documentation on this error, please visit: https://www.selenium.dev/documentation/webdriver/troubleshooting/errors#no-such-element-exception\n",
      "Stacktrace:\n",
      "0   chromedriver                        0x000000010742ba78 chromedriver + 5216888\n",
      "1   chromedriver                        0x00000001074236b3 chromedriver + 5183155\n",
      "2   chromedriver                        0x0000000106f95527 chromedriver + 406823\n",
      "3   chromedriver                        0x0000000106fe0ff2 chromedriver + 716786\n",
      "4   chromedriver                        0x0000000106fe1181 chromedriver + 717185\n",
      "5   chromedriver                        0x00000001070251d4 chromedriver + 995796\n",
      "6   chromedriver                        0x000000010700372d chromedriver + 857901\n",
      "7   chromedriver                        0x00000001070226bf chromedriver + 984767\n",
      "8   chromedriver                        0x00000001070034a3 chromedriver + 857251\n",
      "9   chromedriver                        0x0000000106fd3fe3 chromedriver + 663523\n",
      "10  chromedriver                        0x0000000106fd492e chromedriver + 665902\n",
      "11  chromedriver                        0x00000001073e9990 chromedriver + 4946320\n",
      "12  chromedriver                        0x00000001073efa44 chromedriver + 4971076\n",
      "13  chromedriver                        0x00000001073ca48e chromedriver + 4818062\n",
      "14  chromedriver                        0x00000001073f0559 chromedriver + 4973913\n",
      "15  chromedriver                        0x00000001073ba714 chromedriver + 4753172\n",
      "16  chromedriver                        0x0000000107412c08 chromedriver + 5114888\n",
      "17  chromedriver                        0x0000000107412dc7 chromedriver + 5115335\n",
      "18  chromedriver                        0x00000001074232d3 chromedriver + 5182163\n",
      "19  libsystem_pthread.dylib             0x00007ff8173301d3 _pthread_start + 125\n",
      "20  libsystem_pthread.dylib             0x00007ff81732bbd3 thread_start + 15\n",
      "\n"
     ]
    },
    {
     "name": "stderr",
     "output_type": "stream",
     "text": [
      " 23%|█████████████████▋                                                           | 225/982 [13:42<1:18:13,  6.20s/it]"
     ]
    },
    {
     "name": "stdout",
     "output_type": "stream",
     "text": [
      "Message: no such element: Unable to locate element: {\"method\":\"xpath\",\"selector\":\"//img[@title=\"Sergiu Bardin\"]\"}\n",
      "  (Session info: chrome=124.0.6367.201); For documentation on this error, please visit: https://www.selenium.dev/documentation/webdriver/troubleshooting/errors#no-such-element-exception\n",
      "Stacktrace:\n",
      "0   chromedriver                        0x000000010742ba78 chromedriver + 5216888\n",
      "1   chromedriver                        0x00000001074236b3 chromedriver + 5183155\n",
      "2   chromedriver                        0x0000000106f95527 chromedriver + 406823\n",
      "3   chromedriver                        0x0000000106fe0ff2 chromedriver + 716786\n",
      "4   chromedriver                        0x0000000106fe1181 chromedriver + 717185\n",
      "5   chromedriver                        0x00000001070251d4 chromedriver + 995796\n",
      "6   chromedriver                        0x000000010700372d chromedriver + 857901\n",
      "7   chromedriver                        0x00000001070226bf chromedriver + 984767\n",
      "8   chromedriver                        0x00000001070034a3 chromedriver + 857251\n",
      "9   chromedriver                        0x0000000106fd3fe3 chromedriver + 663523\n",
      "10  chromedriver                        0x0000000106fd492e chromedriver + 665902\n",
      "11  chromedriver                        0x00000001073e9990 chromedriver + 4946320\n",
      "12  chromedriver                        0x00000001073efa44 chromedriver + 4971076\n",
      "13  chromedriver                        0x00000001073ca48e chromedriver + 4818062\n",
      "14  chromedriver                        0x00000001073f0559 chromedriver + 4973913\n",
      "15  chromedriver                        0x00000001073ba714 chromedriver + 4753172\n",
      "16  chromedriver                        0x0000000107412c08 chromedriver + 5114888\n",
      "17  chromedriver                        0x0000000107412dc7 chromedriver + 5115335\n",
      "18  chromedriver                        0x00000001074232d3 chromedriver + 5182163\n",
      "19  libsystem_pthread.dylib             0x00007ff8173301d3 _pthread_start + 125\n",
      "20  libsystem_pthread.dylib             0x00007ff81732bbd3 thread_start + 15\n",
      "\n"
     ]
    },
    {
     "name": "stderr",
     "output_type": "stream",
     "text": [
      " 24%|██████████████████▌                                                          | 237/982 [14:57<1:16:41,  6.18s/it]"
     ]
    },
    {
     "name": "stdout",
     "output_type": "stream",
     "text": [
      "Failed to download profile picture\n"
     ]
    },
    {
     "name": "stderr",
     "output_type": "stream",
     "text": [
      " 24%|██████████████████▋                                                          | 239/982 [15:09<1:16:24,  6.17s/it]"
     ]
    },
    {
     "name": "stdout",
     "output_type": "stream",
     "text": [
      "Message: no such element: Unable to locate element: {\"method\":\"xpath\",\"selector\":\"//img[@title=\"Mike Aprile\"]\"}\n",
      "  (Session info: chrome=124.0.6367.201); For documentation on this error, please visit: https://www.selenium.dev/documentation/webdriver/troubleshooting/errors#no-such-element-exception\n",
      "Stacktrace:\n",
      "0   chromedriver                        0x000000010742ba78 chromedriver + 5216888\n",
      "1   chromedriver                        0x00000001074236b3 chromedriver + 5183155\n",
      "2   chromedriver                        0x0000000106f95527 chromedriver + 406823\n",
      "3   chromedriver                        0x0000000106fe0ff2 chromedriver + 716786\n",
      "4   chromedriver                        0x0000000106fe1181 chromedriver + 717185\n",
      "5   chromedriver                        0x00000001070251d4 chromedriver + 995796\n",
      "6   chromedriver                        0x000000010700372d chromedriver + 857901\n",
      "7   chromedriver                        0x00000001070226bf chromedriver + 984767\n",
      "8   chromedriver                        0x00000001070034a3 chromedriver + 857251\n",
      "9   chromedriver                        0x0000000106fd3fe3 chromedriver + 663523\n",
      "10  chromedriver                        0x0000000106fd492e chromedriver + 665902\n",
      "11  chromedriver                        0x00000001073e9990 chromedriver + 4946320\n",
      "12  chromedriver                        0x00000001073efa44 chromedriver + 4971076\n",
      "13  chromedriver                        0x00000001073ca48e chromedriver + 4818062\n",
      "14  chromedriver                        0x00000001073f0559 chromedriver + 4973913\n",
      "15  chromedriver                        0x00000001073ba714 chromedriver + 4753172\n",
      "16  chromedriver                        0x0000000107412c08 chromedriver + 5114888\n",
      "17  chromedriver                        0x0000000107412dc7 chromedriver + 5115335\n",
      "18  chromedriver                        0x00000001074232d3 chromedriver + 5182163\n",
      "19  libsystem_pthread.dylib             0x00007ff8173301d3 _pthread_start + 125\n",
      "20  libsystem_pthread.dylib             0x00007ff81732bbd3 thread_start + 15\n",
      "\n"
     ]
    },
    {
     "name": "stderr",
     "output_type": "stream",
     "text": [
      " 26%|████████████████████▍                                                        | 260/982 [17:20<1:15:52,  6.30s/it]"
     ]
    },
    {
     "name": "stdout",
     "output_type": "stream",
     "text": [
      "Failed to download profile picture\n"
     ]
    },
    {
     "name": "stderr",
     "output_type": "stream",
     "text": [
      " 28%|█████████████████████▍                                                       | 273/982 [18:42<1:16:48,  6.50s/it]"
     ]
    },
    {
     "name": "stdout",
     "output_type": "stream",
     "text": [
      "Failed to download profile picture\n"
     ]
    },
    {
     "name": "stderr",
     "output_type": "stream",
     "text": [
      " 28%|█████████████████████▌                                                       | 275/982 [18:55<1:14:31,  6.32s/it]"
     ]
    },
    {
     "name": "stdout",
     "output_type": "stream",
     "text": [
      "Failed to download profile picture\n"
     ]
    },
    {
     "name": "stderr",
     "output_type": "stream",
     "text": [
      " 30%|███████████████████████▎                                                     | 297/982 [21:13<1:10:44,  6.20s/it]"
     ]
    },
    {
     "name": "stdout",
     "output_type": "stream",
     "text": [
      "Failed to download profile picture\n"
     ]
    },
    {
     "name": "stderr",
     "output_type": "stream",
     "text": [
      " 30%|███████████████████████▍                                                     | 299/982 [21:25<1:10:46,  6.22s/it]"
     ]
    },
    {
     "name": "stdout",
     "output_type": "stream",
     "text": [
      "Failed to download profile picture\n"
     ]
    },
    {
     "name": "stderr",
     "output_type": "stream",
     "text": [
      " 31%|███████████████████████▉                                                     | 305/982 [22:03<1:10:17,  6.23s/it]"
     ]
    },
    {
     "name": "stdout",
     "output_type": "stream",
     "text": [
      "Failed to download profile picture\n"
     ]
    },
    {
     "name": "stderr",
     "output_type": "stream",
     "text": [
      " 32%|████████████████████████▌                                                    | 313/982 [22:53<1:09:52,  6.27s/it]"
     ]
    },
    {
     "name": "stdout",
     "output_type": "stream",
     "text": [
      "Failed to download profile picture\n"
     ]
    },
    {
     "name": "stderr",
     "output_type": "stream",
     "text": [
      " 33%|█████████████████████████▌                                                   | 326/982 [24:14<1:08:17,  6.25s/it]"
     ]
    },
    {
     "name": "stdout",
     "output_type": "stream",
     "text": [
      "Failed to download profile picture\n"
     ]
    },
    {
     "name": "stderr",
     "output_type": "stream",
     "text": [
      " 33%|█████████████████████████▋                                                   | 328/982 [24:26<1:07:19,  6.18s/it]"
     ]
    },
    {
     "name": "stdout",
     "output_type": "stream",
     "text": [
      "Failed to download profile picture\n"
     ]
    },
    {
     "name": "stderr",
     "output_type": "stream",
     "text": [
      " 34%|██████████████████████████▏                                                  | 334/982 [25:03<1:07:13,  6.23s/it]"
     ]
    },
    {
     "name": "stdout",
     "output_type": "stream",
     "text": [
      "Failed to download profile picture\n"
     ]
    },
    {
     "name": "stderr",
     "output_type": "stream",
     "text": [
      " 35%|███████████████████████████▏                                                 | 346/982 [26:17<1:05:46,  6.20s/it]"
     ]
    },
    {
     "name": "stdout",
     "output_type": "stream",
     "text": [
      "Failed to download profile picture\n"
     ]
    },
    {
     "name": "stderr",
     "output_type": "stream",
     "text": [
      " 36%|███████████████████████████▍                                                 | 350/982 [26:42<1:05:38,  6.23s/it]"
     ]
    },
    {
     "name": "stdout",
     "output_type": "stream",
     "text": [
      "Failed to download profile picture\n"
     ]
    },
    {
     "name": "stderr",
     "output_type": "stream",
     "text": [
      " 38%|█████████████████████████████▏                                               | 372/982 [29:01<1:03:12,  6.22s/it]"
     ]
    },
    {
     "name": "stdout",
     "output_type": "stream",
     "text": [
      "Message: no such element: Unable to locate element: {\"method\":\"xpath\",\"selector\":\"//img[@title=\"Dumitru Chianu\"]\"}\n",
      "  (Session info: chrome=124.0.6367.201); For documentation on this error, please visit: https://www.selenium.dev/documentation/webdriver/troubleshooting/errors#no-such-element-exception\n",
      "Stacktrace:\n",
      "0   chromedriver                        0x000000010742ba78 chromedriver + 5216888\n",
      "1   chromedriver                        0x00000001074236b3 chromedriver + 5183155\n",
      "2   chromedriver                        0x0000000106f95527 chromedriver + 406823\n",
      "3   chromedriver                        0x0000000106fe0ff2 chromedriver + 716786\n",
      "4   chromedriver                        0x0000000106fe1181 chromedriver + 717185\n",
      "5   chromedriver                        0x00000001070251d4 chromedriver + 995796\n",
      "6   chromedriver                        0x000000010700372d chromedriver + 857901\n",
      "7   chromedriver                        0x00000001070226bf chromedriver + 984767\n",
      "8   chromedriver                        0x00000001070034a3 chromedriver + 857251\n",
      "9   chromedriver                        0x0000000106fd3fe3 chromedriver + 663523\n",
      "10  chromedriver                        0x0000000106fd492e chromedriver + 665902\n",
      "11  chromedriver                        0x00000001073e9990 chromedriver + 4946320\n",
      "12  chromedriver                        0x00000001073efa44 chromedriver + 4971076\n",
      "13  chromedriver                        0x00000001073ca48e chromedriver + 4818062\n",
      "14  chromedriver                        0x00000001073f0559 chromedriver + 4973913\n",
      "15  chromedriver                        0x00000001073ba714 chromedriver + 4753172\n",
      "16  chromedriver                        0x0000000107412c08 chromedriver + 5114888\n",
      "17  chromedriver                        0x0000000107412dc7 chromedriver + 5115335\n",
      "18  chromedriver                        0x00000001074232d3 chromedriver + 5182163\n",
      "19  libsystem_pthread.dylib             0x00007ff8173301d3 _pthread_start + 125\n",
      "20  libsystem_pthread.dylib             0x00007ff81732bbd3 thread_start + 15\n",
      "\n"
     ]
    },
    {
     "name": "stderr",
     "output_type": "stream",
     "text": [
      " 39%|██████████████████████████████▏                                              | 385/982 [30:26<1:09:49,  7.02s/it]"
     ]
    },
    {
     "name": "stdout",
     "output_type": "stream",
     "text": [
      "Message: no such element: Unable to locate element: {\"method\":\"xpath\",\"selector\":\"//img[@title=\"Bogdan Stana\"]\"}\n",
      "  (Session info: chrome=124.0.6367.201); For documentation on this error, please visit: https://www.selenium.dev/documentation/webdriver/troubleshooting/errors#no-such-element-exception\n",
      "Stacktrace:\n",
      "0   chromedriver                        0x000000010742ba78 chromedriver + 5216888\n",
      "1   chromedriver                        0x00000001074236b3 chromedriver + 5183155\n",
      "2   chromedriver                        0x0000000106f95527 chromedriver + 406823\n",
      "3   chromedriver                        0x0000000106fe0ff2 chromedriver + 716786\n",
      "4   chromedriver                        0x0000000106fe1181 chromedriver + 717185\n",
      "5   chromedriver                        0x00000001070251d4 chromedriver + 995796\n",
      "6   chromedriver                        0x000000010700372d chromedriver + 857901\n",
      "7   chromedriver                        0x00000001070226bf chromedriver + 984767\n",
      "8   chromedriver                        0x00000001070034a3 chromedriver + 857251\n",
      "9   chromedriver                        0x0000000106fd3fe3 chromedriver + 663523\n",
      "10  chromedriver                        0x0000000106fd492e chromedriver + 665902\n",
      "11  chromedriver                        0x00000001073e9990 chromedriver + 4946320\n",
      "12  chromedriver                        0x00000001073efa44 chromedriver + 4971076\n",
      "13  chromedriver                        0x00000001073ca48e chromedriver + 4818062\n",
      "14  chromedriver                        0x00000001073f0559 chromedriver + 4973913\n",
      "15  chromedriver                        0x00000001073ba714 chromedriver + 4753172\n",
      "16  chromedriver                        0x0000000107412c08 chromedriver + 5114888\n",
      "17  chromedriver                        0x0000000107412dc7 chromedriver + 5115335\n",
      "18  chromedriver                        0x00000001074232d3 chromedriver + 5182163\n",
      "19  libsystem_pthread.dylib             0x00007ff8173301d3 _pthread_start + 125\n",
      "20  libsystem_pthread.dylib             0x00007ff81732bbd3 thread_start + 15\n",
      "\n"
     ]
    },
    {
     "name": "stderr",
     "output_type": "stream",
     "text": [
      " 42%|█████████████████████████████████▎                                             | 414/982 [33:33<59:00,  6.23s/it]"
     ]
    },
    {
     "name": "stdout",
     "output_type": "stream",
     "text": [
      "Failed to download profile picture\n"
     ]
    },
    {
     "name": "stderr",
     "output_type": "stream",
     "text": [
      " 43%|█████████████████████████████████▋                                             | 419/982 [34:04<58:30,  6.24s/it]"
     ]
    },
    {
     "name": "stdout",
     "output_type": "stream",
     "text": [
      "Failed to download profile picture\n"
     ]
    },
    {
     "name": "stderr",
     "output_type": "stream",
     "text": [
      " 43%|█████████████████████████████████▊                                             | 420/982 [34:11<57:50,  6.18s/it]"
     ]
    },
    {
     "name": "stdout",
     "output_type": "stream",
     "text": [
      "Failed to download profile picture\n"
     ]
    },
    {
     "name": "stderr",
     "output_type": "stream",
     "text": [
      " 43%|█████████████████████████████████▉                                             | 422/982 [34:23<58:24,  6.26s/it]"
     ]
    },
    {
     "name": "stdout",
     "output_type": "stream",
     "text": [
      "Failed to download profile picture\n"
     ]
    },
    {
     "name": "stderr",
     "output_type": "stream",
     "text": [
      " 44%|██████████████████████████████████▉                                            | 434/982 [35:39<57:27,  6.29s/it]"
     ]
    },
    {
     "name": "stdout",
     "output_type": "stream",
     "text": [
      "Message: no such element: Unable to locate element: {\"method\":\"xpath\",\"selector\":\"//img[@title=\"Joe Dunleavy\"]\"}\n",
      "  (Session info: chrome=124.0.6367.201); For documentation on this error, please visit: https://www.selenium.dev/documentation/webdriver/troubleshooting/errors#no-such-element-exception\n",
      "Stacktrace:\n",
      "0   chromedriver                        0x000000010742ba78 chromedriver + 5216888\n",
      "1   chromedriver                        0x00000001074236b3 chromedriver + 5183155\n",
      "2   chromedriver                        0x0000000106f95527 chromedriver + 406823\n",
      "3   chromedriver                        0x0000000106fe0ff2 chromedriver + 716786\n",
      "4   chromedriver                        0x0000000106fe1181 chromedriver + 717185\n",
      "5   chromedriver                        0x00000001070251d4 chromedriver + 995796\n",
      "6   chromedriver                        0x000000010700372d chromedriver + 857901\n",
      "7   chromedriver                        0x00000001070226bf chromedriver + 984767\n",
      "8   chromedriver                        0x00000001070034a3 chromedriver + 857251\n",
      "9   chromedriver                        0x0000000106fd3fe3 chromedriver + 663523\n",
      "10  chromedriver                        0x0000000106fd492e chromedriver + 665902\n",
      "11  chromedriver                        0x00000001073e9990 chromedriver + 4946320\n",
      "12  chromedriver                        0x00000001073efa44 chromedriver + 4971076\n",
      "13  chromedriver                        0x00000001073ca48e chromedriver + 4818062\n",
      "14  chromedriver                        0x00000001073f0559 chromedriver + 4973913\n",
      "15  chromedriver                        0x00000001073ba714 chromedriver + 4753172\n",
      "16  chromedriver                        0x0000000107412c08 chromedriver + 5114888\n",
      "17  chromedriver                        0x0000000107412dc7 chromedriver + 5115335\n",
      "18  chromedriver                        0x00000001074232d3 chromedriver + 5182163\n",
      "19  libsystem_pthread.dylib             0x00007ff8173301d3 _pthread_start + 125\n",
      "20  libsystem_pthread.dylib             0x00007ff81732bbd3 thread_start + 15\n",
      "\n"
     ]
    },
    {
     "name": "stderr",
     "output_type": "stream",
     "text": [
      " 45%|███████████████████████████████████▍                                           | 440/982 [36:19<59:18,  6.57s/it]"
     ]
    },
    {
     "name": "stdout",
     "output_type": "stream",
     "text": [
      "Message: no such element: Unable to locate element: {\"method\":\"xpath\",\"selector\":\"//img[@title=\"LinkedIn\"]\"}\n",
      "  (Session info: chrome=124.0.6367.201); For documentation on this error, please visit: https://www.selenium.dev/documentation/webdriver/troubleshooting/errors#no-such-element-exception\n",
      "Stacktrace:\n",
      "0   chromedriver                        0x000000010742ba78 chromedriver + 5216888\n",
      "1   chromedriver                        0x00000001074236b3 chromedriver + 5183155\n",
      "2   chromedriver                        0x0000000106f95527 chromedriver + 406823\n",
      "3   chromedriver                        0x0000000106fe0ff2 chromedriver + 716786\n",
      "4   chromedriver                        0x0000000106fe1181 chromedriver + 717185\n",
      "5   chromedriver                        0x00000001070251d4 chromedriver + 995796\n",
      "6   chromedriver                        0x000000010700372d chromedriver + 857901\n",
      "7   chromedriver                        0x00000001070226bf chromedriver + 984767\n",
      "8   chromedriver                        0x00000001070034a3 chromedriver + 857251\n",
      "9   chromedriver                        0x0000000106fd3fe3 chromedriver + 663523\n",
      "10  chromedriver                        0x0000000106fd492e chromedriver + 665902\n",
      "11  chromedriver                        0x00000001073e9990 chromedriver + 4946320\n",
      "12  chromedriver                        0x00000001073efa44 chromedriver + 4971076\n",
      "13  chromedriver                        0x00000001073ca48e chromedriver + 4818062\n",
      "14  chromedriver                        0x00000001073f0559 chromedriver + 4973913\n",
      "15  chromedriver                        0x00000001073ba714 chromedriver + 4753172\n",
      "16  chromedriver                        0x0000000107412c08 chromedriver + 5114888\n",
      "17  chromedriver                        0x0000000107412dc7 chromedriver + 5115335\n",
      "18  chromedriver                        0x00000001074232d3 chromedriver + 5182163\n",
      "19  libsystem_pthread.dylib             0x00007ff8173301d3 _pthread_start + 125\n",
      "20  libsystem_pthread.dylib             0x00007ff81732bbd3 thread_start + 15\n",
      "\n",
      "Failed to download profile picture\n"
     ]
    },
    {
     "name": "stderr",
     "output_type": "stream",
     "text": [
      " 46%|████████████████████████████████████▎                                          | 452/982 [37:35<56:24,  6.39s/it]"
     ]
    },
    {
     "name": "stdout",
     "output_type": "stream",
     "text": [
      "Message: no such element: Unable to locate element: {\"method\":\"xpath\",\"selector\":\"//img[@title=\"Sergiu Suru\"]\"}\n",
      "  (Session info: chrome=124.0.6367.201); For documentation on this error, please visit: https://www.selenium.dev/documentation/webdriver/troubleshooting/errors#no-such-element-exception\n",
      "Stacktrace:\n",
      "0   chromedriver                        0x000000010742ba78 chromedriver + 5216888\n",
      "1   chromedriver                        0x00000001074236b3 chromedriver + 5183155\n",
      "2   chromedriver                        0x0000000106f95527 chromedriver + 406823\n",
      "3   chromedriver                        0x0000000106fe0ff2 chromedriver + 716786\n",
      "4   chromedriver                        0x0000000106fe1181 chromedriver + 717185\n",
      "5   chromedriver                        0x00000001070251d4 chromedriver + 995796\n",
      "6   chromedriver                        0x000000010700372d chromedriver + 857901\n",
      "7   chromedriver                        0x00000001070226bf chromedriver + 984767\n",
      "8   chromedriver                        0x00000001070034a3 chromedriver + 857251\n",
      "9   chromedriver                        0x0000000106fd3fe3 chromedriver + 663523\n",
      "10  chromedriver                        0x0000000106fd492e chromedriver + 665902\n",
      "11  chromedriver                        0x00000001073e9990 chromedriver + 4946320\n",
      "12  chromedriver                        0x00000001073efa44 chromedriver + 4971076\n",
      "13  chromedriver                        0x00000001073ca48e chromedriver + 4818062\n",
      "14  chromedriver                        0x00000001073f0559 chromedriver + 4973913\n",
      "15  chromedriver                        0x00000001073ba714 chromedriver + 4753172\n",
      "16  chromedriver                        0x0000000107412c08 chromedriver + 5114888\n",
      "17  chromedriver                        0x0000000107412dc7 chromedriver + 5115335\n",
      "18  chromedriver                        0x00000001074232d3 chromedriver + 5182163\n",
      "19  libsystem_pthread.dylib             0x00007ff8173301d3 _pthread_start + 125\n",
      "20  libsystem_pthread.dylib             0x00007ff81732bbd3 thread_start + 15\n",
      "\n"
     ]
    },
    {
     "name": "stderr",
     "output_type": "stream",
     "text": [
      " 47%|█████████████████████████████████████                                          | 460/982 [38:27<56:48,  6.53s/it]"
     ]
    },
    {
     "name": "stdout",
     "output_type": "stream",
     "text": [
      "Message: no such element: Unable to locate element: {\"method\":\"xpath\",\"selector\":\"//img[@title=\"LinkedIn\"]\"}\n",
      "  (Session info: chrome=124.0.6367.201); For documentation on this error, please visit: https://www.selenium.dev/documentation/webdriver/troubleshooting/errors#no-such-element-exception\n",
      "Stacktrace:\n",
      "0   chromedriver                        0x000000010742ba78 chromedriver + 5216888\n",
      "1   chromedriver                        0x00000001074236b3 chromedriver + 5183155\n",
      "2   chromedriver                        0x0000000106f95527 chromedriver + 406823\n",
      "3   chromedriver                        0x0000000106fe0ff2 chromedriver + 716786\n",
      "4   chromedriver                        0x0000000106fe1181 chromedriver + 717185\n",
      "5   chromedriver                        0x00000001070251d4 chromedriver + 995796\n",
      "6   chromedriver                        0x000000010700372d chromedriver + 857901\n",
      "7   chromedriver                        0x00000001070226bf chromedriver + 984767\n",
      "8   chromedriver                        0x00000001070034a3 chromedriver + 857251\n",
      "9   chromedriver                        0x0000000106fd3fe3 chromedriver + 663523\n",
      "10  chromedriver                        0x0000000106fd492e chromedriver + 665902\n",
      "11  chromedriver                        0x00000001073e9990 chromedriver + 4946320\n",
      "12  chromedriver                        0x00000001073efa44 chromedriver + 4971076\n",
      "13  chromedriver                        0x00000001073ca48e chromedriver + 4818062\n",
      "14  chromedriver                        0x00000001073f0559 chromedriver + 4973913\n",
      "15  chromedriver                        0x00000001073ba714 chromedriver + 4753172\n",
      "16  chromedriver                        0x0000000107412c08 chromedriver + 5114888\n",
      "17  chromedriver                        0x0000000107412dc7 chromedriver + 5115335\n",
      "18  chromedriver                        0x00000001074232d3 chromedriver + 5182163\n",
      "19  libsystem_pthread.dylib             0x00007ff8173301d3 _pthread_start + 125\n",
      "20  libsystem_pthread.dylib             0x00007ff81732bbd3 thread_start + 15\n",
      "\n",
      "Failed to download profile picture\n"
     ]
    },
    {
     "name": "stderr",
     "output_type": "stream",
     "text": [
      " 48%|█████████████████████████████████████▉                                         | 471/982 [39:38<53:55,  6.33s/it]"
     ]
    },
    {
     "name": "stdout",
     "output_type": "stream",
     "text": [
      "Message: no such element: Unable to locate element: {\"method\":\"xpath\",\"selector\":\"//img[@title=\"Ion Rîciu\"]\"}\n",
      "  (Session info: chrome=124.0.6367.201); For documentation on this error, please visit: https://www.selenium.dev/documentation/webdriver/troubleshooting/errors#no-such-element-exception\n",
      "Stacktrace:\n",
      "0   chromedriver                        0x000000010742ba78 chromedriver + 5216888\n",
      "1   chromedriver                        0x00000001074236b3 chromedriver + 5183155\n",
      "2   chromedriver                        0x0000000106f95527 chromedriver + 406823\n",
      "3   chromedriver                        0x0000000106fe0ff2 chromedriver + 716786\n",
      "4   chromedriver                        0x0000000106fe1181 chromedriver + 717185\n",
      "5   chromedriver                        0x00000001070251d4 chromedriver + 995796\n",
      "6   chromedriver                        0x000000010700372d chromedriver + 857901\n",
      "7   chromedriver                        0x00000001070226bf chromedriver + 984767\n",
      "8   chromedriver                        0x00000001070034a3 chromedriver + 857251\n",
      "9   chromedriver                        0x0000000106fd3fe3 chromedriver + 663523\n",
      "10  chromedriver                        0x0000000106fd492e chromedriver + 665902\n",
      "11  chromedriver                        0x00000001073e9990 chromedriver + 4946320\n",
      "12  chromedriver                        0x00000001073efa44 chromedriver + 4971076\n",
      "13  chromedriver                        0x00000001073ca48e chromedriver + 4818062\n",
      "14  chromedriver                        0x00000001073f0559 chromedriver + 4973913\n",
      "15  chromedriver                        0x00000001073ba714 chromedriver + 4753172\n",
      "16  chromedriver                        0x0000000107412c08 chromedriver + 5114888\n",
      "17  chromedriver                        0x0000000107412dc7 chromedriver + 5115335\n",
      "18  chromedriver                        0x00000001074232d3 chromedriver + 5182163\n",
      "19  libsystem_pthread.dylib             0x00007ff8173301d3 _pthread_start + 125\n",
      "20  libsystem_pthread.dylib             0x00007ff81732bbd3 thread_start + 15\n",
      "\n"
     ]
    },
    {
     "name": "stderr",
     "output_type": "stream",
     "text": [
      " 49%|██████████████████████████████████████▊                                        | 483/982 [40:56<52:42,  6.34s/it]"
     ]
    },
    {
     "name": "stdout",
     "output_type": "stream",
     "text": [
      "Failed to download profile picture\n"
     ]
    },
    {
     "name": "stderr",
     "output_type": "stream",
     "text": [
      " 51%|████████████████████████████████████████▌                                      | 504/982 [43:09<51:31,  6.47s/it]"
     ]
    },
    {
     "name": "stdout",
     "output_type": "stream",
     "text": [
      "Message: no such element: Unable to locate element: {\"method\":\"xpath\",\"selector\":\"//img[@title=\"Aleksandar Milicevic\"]\"}\n",
      "  (Session info: chrome=124.0.6367.201); For documentation on this error, please visit: https://www.selenium.dev/documentation/webdriver/troubleshooting/errors#no-such-element-exception\n",
      "Stacktrace:\n",
      "0   chromedriver                        0x000000010742ba78 chromedriver + 5216888\n",
      "1   chromedriver                        0x00000001074236b3 chromedriver + 5183155\n",
      "2   chromedriver                        0x0000000106f95527 chromedriver + 406823\n",
      "3   chromedriver                        0x0000000106fe0ff2 chromedriver + 716786\n",
      "4   chromedriver                        0x0000000106fe1181 chromedriver + 717185\n",
      "5   chromedriver                        0x00000001070251d4 chromedriver + 995796\n",
      "6   chromedriver                        0x000000010700372d chromedriver + 857901\n",
      "7   chromedriver                        0x00000001070226bf chromedriver + 984767\n",
      "8   chromedriver                        0x00000001070034a3 chromedriver + 857251\n",
      "9   chromedriver                        0x0000000106fd3fe3 chromedriver + 663523\n",
      "10  chromedriver                        0x0000000106fd492e chromedriver + 665902\n",
      "11  chromedriver                        0x00000001073e9990 chromedriver + 4946320\n",
      "12  chromedriver                        0x00000001073efa44 chromedriver + 4971076\n",
      "13  chromedriver                        0x00000001073ca48e chromedriver + 4818062\n",
      "14  chromedriver                        0x00000001073f0559 chromedriver + 4973913\n",
      "15  chromedriver                        0x00000001073ba714 chromedriver + 4753172\n",
      "16  chromedriver                        0x0000000107412c08 chromedriver + 5114888\n",
      "17  chromedriver                        0x0000000107412dc7 chromedriver + 5115335\n",
      "18  chromedriver                        0x00000001074232d3 chromedriver + 5182163\n",
      "19  libsystem_pthread.dylib             0x00007ff8173301d3 _pthread_start + 125\n",
      "20  libsystem_pthread.dylib             0x00007ff81732bbd3 thread_start + 15\n",
      "\n"
     ]
    },
    {
     "name": "stderr",
     "output_type": "stream",
     "text": [
      " 53%|█████████████████████████████████████████▋                                     | 518/982 [44:44<53:11,  6.88s/it]"
     ]
    },
    {
     "name": "stdout",
     "output_type": "stream",
     "text": [
      "Failed to download profile picture\n"
     ]
    },
    {
     "name": "stderr",
     "output_type": "stream",
     "text": [
      " 53%|█████████████████████████████████████████▊                                     | 519/982 [44:51<52:49,  6.85s/it]"
     ]
    },
    {
     "name": "stdout",
     "output_type": "stream",
     "text": [
      "Failed to download profile picture\n"
     ]
    },
    {
     "name": "stderr",
     "output_type": "stream",
     "text": [
      " 54%|██████████████████████████████████████████▍                                    | 527/982 [45:45<51:24,  6.78s/it]"
     ]
    },
    {
     "name": "stdout",
     "output_type": "stream",
     "text": [
      "Message: no such element: Unable to locate element: {\"method\":\"xpath\",\"selector\":\"//img[@title=\"Jennifer Shearman-Jones\"]\"}\n",
      "  (Session info: chrome=124.0.6367.201); For documentation on this error, please visit: https://www.selenium.dev/documentation/webdriver/troubleshooting/errors#no-such-element-exception\n",
      "Stacktrace:\n",
      "0   chromedriver                        0x000000010742ba78 chromedriver + 5216888\n",
      "1   chromedriver                        0x00000001074236b3 chromedriver + 5183155\n",
      "2   chromedriver                        0x0000000106f95527 chromedriver + 406823\n",
      "3   chromedriver                        0x0000000106fe0ff2 chromedriver + 716786\n",
      "4   chromedriver                        0x0000000106fe1181 chromedriver + 717185\n",
      "5   chromedriver                        0x00000001070251d4 chromedriver + 995796\n",
      "6   chromedriver                        0x000000010700372d chromedriver + 857901\n",
      "7   chromedriver                        0x00000001070226bf chromedriver + 984767\n",
      "8   chromedriver                        0x00000001070034a3 chromedriver + 857251\n",
      "9   chromedriver                        0x0000000106fd3fe3 chromedriver + 663523\n",
      "10  chromedriver                        0x0000000106fd492e chromedriver + 665902\n",
      "11  chromedriver                        0x00000001073e9990 chromedriver + 4946320\n",
      "12  chromedriver                        0x00000001073efa44 chromedriver + 4971076\n",
      "13  chromedriver                        0x00000001073ca48e chromedriver + 4818062\n",
      "14  chromedriver                        0x00000001073f0559 chromedriver + 4973913\n",
      "15  chromedriver                        0x00000001073ba714 chromedriver + 4753172\n",
      "16  chromedriver                        0x0000000107412c08 chromedriver + 5114888\n",
      "17  chromedriver                        0x0000000107412dc7 chromedriver + 5115335\n",
      "18  chromedriver                        0x00000001074232d3 chromedriver + 5182163\n",
      "19  libsystem_pthread.dylib             0x00007ff8173301d3 _pthread_start + 125\n",
      "20  libsystem_pthread.dylib             0x00007ff81732bbd3 thread_start + 15\n",
      "\n"
     ]
    },
    {
     "name": "stderr",
     "output_type": "stream",
     "text": [
      " 54%|██████████████████████████████████████████▍                                    | 528/982 [45:53<54:03,  7.14s/it]"
     ]
    },
    {
     "name": "stdout",
     "output_type": "stream",
     "text": [
      "Message: no such element: Unable to locate element: {\"method\":\"xpath\",\"selector\":\"//img[@title=\"Laura Andrea Alvarez\"]\"}\n",
      "  (Session info: chrome=124.0.6367.201); For documentation on this error, please visit: https://www.selenium.dev/documentation/webdriver/troubleshooting/errors#no-such-element-exception\n",
      "Stacktrace:\n",
      "0   chromedriver                        0x000000010742ba78 chromedriver + 5216888\n",
      "1   chromedriver                        0x00000001074236b3 chromedriver + 5183155\n",
      "2   chromedriver                        0x0000000106f95527 chromedriver + 406823\n",
      "3   chromedriver                        0x0000000106fe0ff2 chromedriver + 716786\n",
      "4   chromedriver                        0x0000000106fe1181 chromedriver + 717185\n",
      "5   chromedriver                        0x00000001070251d4 chromedriver + 995796\n",
      "6   chromedriver                        0x000000010700372d chromedriver + 857901\n",
      "7   chromedriver                        0x00000001070226bf chromedriver + 984767\n",
      "8   chromedriver                        0x00000001070034a3 chromedriver + 857251\n",
      "9   chromedriver                        0x0000000106fd3fe3 chromedriver + 663523\n",
      "10  chromedriver                        0x0000000106fd492e chromedriver + 665902\n",
      "11  chromedriver                        0x00000001073e9990 chromedriver + 4946320\n",
      "12  chromedriver                        0x00000001073efa44 chromedriver + 4971076\n",
      "13  chromedriver                        0x00000001073ca48e chromedriver + 4818062\n",
      "14  chromedriver                        0x00000001073f0559 chromedriver + 4973913\n",
      "15  chromedriver                        0x00000001073ba714 chromedriver + 4753172\n",
      "16  chromedriver                        0x0000000107412c08 chromedriver + 5114888\n",
      "17  chromedriver                        0x0000000107412dc7 chromedriver + 5115335\n",
      "18  chromedriver                        0x00000001074232d3 chromedriver + 5182163\n",
      "19  libsystem_pthread.dylib             0x00007ff8173301d3 _pthread_start + 125\n",
      "20  libsystem_pthread.dylib             0x00007ff81732bbd3 thread_start + 15\n",
      "\n",
      "Failed to download profile picture\n"
     ]
    },
    {
     "name": "stderr",
     "output_type": "stream",
     "text": [
      " 57%|█████████████████████████████████████████████▏                                 | 561/982 [49:25<46:10,  6.58s/it]"
     ]
    },
    {
     "name": "stdout",
     "output_type": "stream",
     "text": [
      "Failed to download profile picture\n"
     ]
    },
    {
     "name": "stderr",
     "output_type": "stream",
     "text": [
      " 59%|██████████████████████████████████████████████▎                                | 576/982 [51:00<42:56,  6.35s/it]"
     ]
    },
    {
     "name": "stdout",
     "output_type": "stream",
     "text": [
      "Failed to download profile picture\n"
     ]
    },
    {
     "name": "stderr",
     "output_type": "stream",
     "text": [
      " 59%|██████████████████████████████████████████████▍                                | 578/982 [51:12<42:01,  6.24s/it]"
     ]
    },
    {
     "name": "stdout",
     "output_type": "stream",
     "text": [
      "Message: no such element: Unable to locate element: {\"method\":\"xpath\",\"selector\":\"//img[@title=\"Andrés Romero\"]\"}\n",
      "  (Session info: chrome=124.0.6367.201); For documentation on this error, please visit: https://www.selenium.dev/documentation/webdriver/troubleshooting/errors#no-such-element-exception\n",
      "Stacktrace:\n",
      "0   chromedriver                        0x000000010742ba78 chromedriver + 5216888\n",
      "1   chromedriver                        0x00000001074236b3 chromedriver + 5183155\n",
      "2   chromedriver                        0x0000000106f95527 chromedriver + 406823\n",
      "3   chromedriver                        0x0000000106fe0ff2 chromedriver + 716786\n",
      "4   chromedriver                        0x0000000106fe1181 chromedriver + 717185\n",
      "5   chromedriver                        0x00000001070251d4 chromedriver + 995796\n",
      "6   chromedriver                        0x000000010700372d chromedriver + 857901\n",
      "7   chromedriver                        0x00000001070226bf chromedriver + 984767\n",
      "8   chromedriver                        0x00000001070034a3 chromedriver + 857251\n",
      "9   chromedriver                        0x0000000106fd3fe3 chromedriver + 663523\n",
      "10  chromedriver                        0x0000000106fd492e chromedriver + 665902\n",
      "11  chromedriver                        0x00000001073e9990 chromedriver + 4946320\n",
      "12  chromedriver                        0x00000001073efa44 chromedriver + 4971076\n",
      "13  chromedriver                        0x00000001073ca48e chromedriver + 4818062\n",
      "14  chromedriver                        0x00000001073f0559 chromedriver + 4973913\n",
      "15  chromedriver                        0x00000001073ba714 chromedriver + 4753172\n",
      "16  chromedriver                        0x0000000107412c08 chromedriver + 5114888\n",
      "17  chromedriver                        0x0000000107412dc7 chromedriver + 5115335\n",
      "18  chromedriver                        0x00000001074232d3 chromedriver + 5182163\n",
      "19  libsystem_pthread.dylib             0x00007ff8173301d3 _pthread_start + 125\n",
      "20  libsystem_pthread.dylib             0x00007ff81732bbd3 thread_start + 15\n",
      "\n"
     ]
    },
    {
     "name": "stderr",
     "output_type": "stream",
     "text": [
      " 59%|██████████████████████████████████████████████▌                                | 579/982 [51:19<41:43,  6.21s/it]"
     ]
    },
    {
     "name": "stdout",
     "output_type": "stream",
     "text": [
      "Failed to download profile picture\n"
     ]
    },
    {
     "name": "stderr",
     "output_type": "stream",
     "text": [
      " 61%|███████████████████████████████████████████████▉                               | 596/982 [53:12<43:56,  6.83s/it]"
     ]
    },
    {
     "name": "stdout",
     "output_type": "stream",
     "text": [
      "Failed to download profile picture\n"
     ]
    },
    {
     "name": "stderr",
     "output_type": "stream",
     "text": [
      " 61%|████████████████████████████████████████████████▎                              | 600/982 [53:39<43:46,  6.87s/it]"
     ]
    },
    {
     "name": "stdout",
     "output_type": "stream",
     "text": [
      "Message: no such element: Unable to locate element: {\"method\":\"xpath\",\"selector\":\"//img[@title=\"Stuart Smith\"]\"}\n",
      "  (Session info: chrome=124.0.6367.201); For documentation on this error, please visit: https://www.selenium.dev/documentation/webdriver/troubleshooting/errors#no-such-element-exception\n",
      "Stacktrace:\n",
      "0   chromedriver                        0x000000010742ba78 chromedriver + 5216888\n",
      "1   chromedriver                        0x00000001074236b3 chromedriver + 5183155\n",
      "2   chromedriver                        0x0000000106f95527 chromedriver + 406823\n",
      "3   chromedriver                        0x0000000106fe0ff2 chromedriver + 716786\n",
      "4   chromedriver                        0x0000000106fe1181 chromedriver + 717185\n",
      "5   chromedriver                        0x00000001070251d4 chromedriver + 995796\n",
      "6   chromedriver                        0x000000010700372d chromedriver + 857901\n",
      "7   chromedriver                        0x00000001070226bf chromedriver + 984767\n",
      "8   chromedriver                        0x00000001070034a3 chromedriver + 857251\n",
      "9   chromedriver                        0x0000000106fd3fe3 chromedriver + 663523\n",
      "10  chromedriver                        0x0000000106fd492e chromedriver + 665902\n",
      "11  chromedriver                        0x00000001073e9990 chromedriver + 4946320\n",
      "12  chromedriver                        0x00000001073efa44 chromedriver + 4971076\n",
      "13  chromedriver                        0x00000001073ca48e chromedriver + 4818062\n",
      "14  chromedriver                        0x00000001073f0559 chromedriver + 4973913\n",
      "15  chromedriver                        0x00000001073ba714 chromedriver + 4753172\n",
      "16  chromedriver                        0x0000000107412c08 chromedriver + 5114888\n",
      "17  chromedriver                        0x0000000107412dc7 chromedriver + 5115335\n",
      "18  chromedriver                        0x00000001074232d3 chromedriver + 5182163\n",
      "19  libsystem_pthread.dylib             0x00007ff8173301d3 _pthread_start + 125\n",
      "20  libsystem_pthread.dylib             0x00007ff81732bbd3 thread_start + 15\n",
      "\n"
     ]
    },
    {
     "name": "stderr",
     "output_type": "stream",
     "text": [
      " 62%|████████████████████████████████████████████████▌                              | 604/982 [54:07<42:50,  6.80s/it]"
     ]
    },
    {
     "name": "stdout",
     "output_type": "stream",
     "text": [
      "Failed to download profile picture\n"
     ]
    },
    {
     "name": "stderr",
     "output_type": "stream",
     "text": [
      " 62%|████████████████████████████████████████████████▉                              | 608/982 [54:34<42:31,  6.82s/it]"
     ]
    },
    {
     "name": "stdout",
     "output_type": "stream",
     "text": [
      "Message: javascript error: {\"status\":32,\"value\":\"Unable to locate an element with the xpath expression //img[@title=\\\"Catalin \\\"Nicky\\\" Onut\\\"] because of the following error:\\nSyntaxError: Failed to execute 'evaluate' on 'Document': The string '//img[@title=\\\"Catalin \\\"Nicky\\\" Onut\\\"]' is not a valid XPath expression.\"}\n",
      "  (Session info: chrome=124.0.6367.201)\n",
      "Stacktrace:\n",
      "0   chromedriver                        0x000000010742ba78 chromedriver + 5216888\n",
      "1   chromedriver                        0x00000001074236b3 chromedriver + 5183155\n",
      "2   chromedriver                        0x0000000106f95527 chromedriver + 406823\n",
      "3   chromedriver                        0x0000000106f9abc4 chromedriver + 428996\n",
      "4   chromedriver                        0x0000000106f9c929 chromedriver + 436521\n",
      "5   chromedriver                        0x0000000106f9c9cc chromedriver + 436684\n",
      "6   chromedriver                        0x0000000106fe0dfa chromedriver + 716282\n",
      "7   chromedriver                        0x0000000106fe1181 chromedriver + 717185\n",
      "8   chromedriver                        0x00000001070251d4 chromedriver + 995796\n",
      "9   chromedriver                        0x000000010700372d chromedriver + 857901\n",
      "10  chromedriver                        0x00000001070226bf chromedriver + 984767\n",
      "11  chromedriver                        0x00000001070034a3 chromedriver + 857251\n",
      "12  chromedriver                        0x0000000106fd3fe3 chromedriver + 663523\n",
      "13  chromedriver                        0x0000000106fd492e chromedriver + 665902\n",
      "14  chromedriver                        0x00000001073e9990 chromedriver + 4946320\n",
      "15  chromedriver                        0x00000001073efa44 chromedriver + 4971076\n",
      "16  chromedriver                        0x00000001073ca48e chromedriver + 4818062\n",
      "17  chromedriver                        0x00000001073f0559 chromedriver + 4973913\n",
      "18  chromedriver                        0x00000001073ba714 chromedriver + 4753172\n",
      "19  chromedriver                        0x0000000107412c08 chromedriver + 5114888\n",
      "20  chromedriver                        0x0000000107412dc7 chromedriver + 5115335\n",
      "21  chromedriver                        0x00000001074232d3 chromedriver + 5182163\n",
      "22  libsystem_pthread.dylib             0x00007ff8173301d3 _pthread_start + 125\n",
      "23  libsystem_pthread.dylib             0x00007ff81732bbd3 thread_start + 15\n",
      "\n",
      "Failed to download profile picture\n"
     ]
    },
    {
     "name": "stderr",
     "output_type": "stream",
     "text": [
      " 63%|█████████████████████████████████████████████████▉                             | 620/982 [55:51<38:37,  6.40s/it]"
     ]
    },
    {
     "name": "stdout",
     "output_type": "stream",
     "text": [
      "Failed to download profile picture\n"
     ]
    },
    {
     "name": "stderr",
     "output_type": "stream",
     "text": [
      " 65%|███████████████████████████████████████████████████                            | 635/982 [57:25<36:33,  6.32s/it]"
     ]
    },
    {
     "name": "stdout",
     "output_type": "stream",
     "text": [
      "Failed to download profile picture\n"
     ]
    },
    {
     "name": "stderr",
     "output_type": "stream",
     "text": [
      " 65%|███████████████████████████████████████████████████▎                           | 638/982 [57:44<36:36,  6.38s/it]"
     ]
    },
    {
     "name": "stdout",
     "output_type": "stream",
     "text": [
      "Failed to download profile picture\n"
     ]
    },
    {
     "name": "stderr",
     "output_type": "stream",
     "text": [
      " 65%|███████████████████████████████████████████████████▌                           | 641/982 [58:03<36:50,  6.48s/it]"
     ]
    },
    {
     "name": "stdout",
     "output_type": "stream",
     "text": [
      "Failed to download profile picture\n"
     ]
    },
    {
     "name": "stderr",
     "output_type": "stream",
     "text": [
      " 68%|████████████████████████████████████████████████████▍                        | 668/982 [1:00:53<32:51,  6.28s/it]"
     ]
    },
    {
     "name": "stdout",
     "output_type": "stream",
     "text": [
      "Failed to download profile picture\n"
     ]
    },
    {
     "name": "stderr",
     "output_type": "stream",
     "text": [
      " 69%|█████████████████████████████████████████████████████                        | 676/982 [1:01:45<33:40,  6.60s/it]"
     ]
    },
    {
     "name": "stdout",
     "output_type": "stream",
     "text": [
      "Failed to download profile picture\n"
     ]
    },
    {
     "name": "stderr",
     "output_type": "stream",
     "text": [
      " 69%|█████████████████████████████████████████████████████▏                       | 679/982 [1:02:04<32:11,  6.38s/it]"
     ]
    },
    {
     "name": "stdout",
     "output_type": "stream",
     "text": [
      "Message: no such element: Unable to locate element: {\"method\":\"xpath\",\"selector\":\"//img[@title=\"Debbie Derks-Smit\"]\"}\n",
      "  (Session info: chrome=124.0.6367.201); For documentation on this error, please visit: https://www.selenium.dev/documentation/webdriver/troubleshooting/errors#no-such-element-exception\n",
      "Stacktrace:\n",
      "0   chromedriver                        0x000000010742ba78 chromedriver + 5216888\n",
      "1   chromedriver                        0x00000001074236b3 chromedriver + 5183155\n",
      "2   chromedriver                        0x0000000106f95527 chromedriver + 406823\n",
      "3   chromedriver                        0x0000000106fe0ff2 chromedriver + 716786\n",
      "4   chromedriver                        0x0000000106fe1181 chromedriver + 717185\n",
      "5   chromedriver                        0x00000001070251d4 chromedriver + 995796\n",
      "6   chromedriver                        0x000000010700372d chromedriver + 857901\n",
      "7   chromedriver                        0x00000001070226bf chromedriver + 984767\n",
      "8   chromedriver                        0x00000001070034a3 chromedriver + 857251\n",
      "9   chromedriver                        0x0000000106fd3fe3 chromedriver + 663523\n",
      "10  chromedriver                        0x0000000106fd492e chromedriver + 665902\n",
      "11  chromedriver                        0x00000001073e9990 chromedriver + 4946320\n",
      "12  chromedriver                        0x00000001073efa44 chromedriver + 4971076\n",
      "13  chromedriver                        0x00000001073ca48e chromedriver + 4818062\n",
      "14  chromedriver                        0x00000001073f0559 chromedriver + 4973913\n",
      "15  chromedriver                        0x00000001073ba714 chromedriver + 4753172\n",
      "16  chromedriver                        0x0000000107412c08 chromedriver + 5114888\n",
      "17  chromedriver                        0x0000000107412dc7 chromedriver + 5115335\n",
      "18  chromedriver                        0x00000001074232d3 chromedriver + 5182163\n",
      "19  libsystem_pthread.dylib             0x00007ff8173301d3 _pthread_start + 125\n",
      "20  libsystem_pthread.dylib             0x00007ff81732bbd3 thread_start + 15\n",
      "\n"
     ]
    },
    {
     "name": "stderr",
     "output_type": "stream",
     "text": [
      " 69%|█████████████████████████████████████████████████████▍                       | 682/982 [1:02:23<31:22,  6.28s/it]"
     ]
    },
    {
     "name": "stdout",
     "output_type": "stream",
     "text": [
      "Failed to download profile picture\n"
     ]
    },
    {
     "name": "stderr",
     "output_type": "stream",
     "text": [
      " 70%|█████████████████████████████████████████████████████▋                       | 685/982 [1:02:43<31:58,  6.46s/it]"
     ]
    },
    {
     "name": "stdout",
     "output_type": "stream",
     "text": [
      "Failed to download profile picture\n"
     ]
    },
    {
     "name": "stderr",
     "output_type": "stream",
     "text": [
      " 71%|██████████████████████████████████████████████████████▉                      | 700/982 [1:04:27<35:36,  7.58s/it]"
     ]
    },
    {
     "name": "stdout",
     "output_type": "stream",
     "text": [
      "Failed to download profile picture\n"
     ]
    },
    {
     "name": "stderr",
     "output_type": "stream",
     "text": [
      " 71%|███████████████████████████████████████████████████████                      | 702/982 [1:04:40<33:30,  7.18s/it]"
     ]
    },
    {
     "name": "stdout",
     "output_type": "stream",
     "text": [
      "Failed to download profile picture\n"
     ]
    },
    {
     "name": "stderr",
     "output_type": "stream",
     "text": [
      " 72%|███████████████████████████████████████████████████████▊                     | 711/982 [1:05:44<31:28,  6.97s/it]"
     ]
    },
    {
     "name": "stdout",
     "output_type": "stream",
     "text": [
      "Message: no such element: Unable to locate element: {\"method\":\"xpath\",\"selector\":\"//img[@title=\"Iosua M. Chitescu\"]\"}\n",
      "  (Session info: chrome=124.0.6367.201); For documentation on this error, please visit: https://www.selenium.dev/documentation/webdriver/troubleshooting/errors#no-such-element-exception\n",
      "Stacktrace:\n",
      "0   chromedriver                        0x000000010742ba78 chromedriver + 5216888\n",
      "1   chromedriver                        0x00000001074236b3 chromedriver + 5183155\n",
      "2   chromedriver                        0x0000000106f95527 chromedriver + 406823\n",
      "3   chromedriver                        0x0000000106fe0ff2 chromedriver + 716786\n",
      "4   chromedriver                        0x0000000106fe1181 chromedriver + 717185\n",
      "5   chromedriver                        0x00000001070251d4 chromedriver + 995796\n",
      "6   chromedriver                        0x000000010700372d chromedriver + 857901\n",
      "7   chromedriver                        0x00000001070226bf chromedriver + 984767\n",
      "8   chromedriver                        0x00000001070034a3 chromedriver + 857251\n",
      "9   chromedriver                        0x0000000106fd3fe3 chromedriver + 663523\n",
      "10  chromedriver                        0x0000000106fd492e chromedriver + 665902\n",
      "11  chromedriver                        0x00000001073e9990 chromedriver + 4946320\n",
      "12  chromedriver                        0x00000001073efa44 chromedriver + 4971076\n",
      "13  chromedriver                        0x00000001073ca48e chromedriver + 4818062\n",
      "14  chromedriver                        0x00000001073f0559 chromedriver + 4973913\n",
      "15  chromedriver                        0x00000001073ba714 chromedriver + 4753172\n",
      "16  chromedriver                        0x0000000107412c08 chromedriver + 5114888\n",
      "17  chromedriver                        0x0000000107412dc7 chromedriver + 5115335\n",
      "18  chromedriver                        0x00000001074232d3 chromedriver + 5182163\n",
      "19  libsystem_pthread.dylib             0x00007ff8173301d3 _pthread_start + 125\n",
      "20  libsystem_pthread.dylib             0x00007ff81732bbd3 thread_start + 15\n",
      "\n"
     ]
    },
    {
     "name": "stderr",
     "output_type": "stream",
     "text": [
      " 75%|█████████████████████████████████████████████████████████▉                   | 739/982 [1:09:01<26:21,  6.51s/it]"
     ]
    },
    {
     "name": "stdout",
     "output_type": "stream",
     "text": [
      "Failed to download profile picture\n"
     ]
    },
    {
     "name": "stderr",
     "output_type": "stream",
     "text": [
      " 76%|██████████████████████████████████████████████████████████▉                  | 751/982 [1:10:16<24:24,  6.34s/it]"
     ]
    },
    {
     "name": "stdout",
     "output_type": "stream",
     "text": [
      "Failed to download profile picture\n"
     ]
    },
    {
     "name": "stderr",
     "output_type": "stream",
     "text": [
      " 79%|████████████████████████████████████████████████████████████▋                | 774/982 [1:12:40<21:39,  6.25s/it]"
     ]
    },
    {
     "name": "stdout",
     "output_type": "stream",
     "text": [
      "Failed to download profile picture\n"
     ]
    },
    {
     "name": "stderr",
     "output_type": "stream",
     "text": [
      " 79%|█████████████████████████████████████████████████████████████                | 779/982 [1:13:13<21:33,  6.37s/it]"
     ]
    },
    {
     "name": "stdout",
     "output_type": "stream",
     "text": [
      "Message: no such element: Unable to locate element: {\"method\":\"xpath\",\"selector\":\"//img[@title=\"Chirciu Iulian\"]\"}\n",
      "  (Session info: chrome=124.0.6367.201); For documentation on this error, please visit: https://www.selenium.dev/documentation/webdriver/troubleshooting/errors#no-such-element-exception\n",
      "Stacktrace:\n",
      "0   chromedriver                        0x000000010742ba78 chromedriver + 5216888\n",
      "1   chromedriver                        0x00000001074236b3 chromedriver + 5183155\n",
      "2   chromedriver                        0x0000000106f95527 chromedriver + 406823\n",
      "3   chromedriver                        0x0000000106fe0ff2 chromedriver + 716786\n",
      "4   chromedriver                        0x0000000106fe1181 chromedriver + 717185\n",
      "5   chromedriver                        0x00000001070251d4 chromedriver + 995796\n",
      "6   chromedriver                        0x000000010700372d chromedriver + 857901\n",
      "7   chromedriver                        0x00000001070226bf chromedriver + 984767\n",
      "8   chromedriver                        0x00000001070034a3 chromedriver + 857251\n",
      "9   chromedriver                        0x0000000106fd3fe3 chromedriver + 663523\n",
      "10  chromedriver                        0x0000000106fd492e chromedriver + 665902\n",
      "11  chromedriver                        0x00000001073e9990 chromedriver + 4946320\n",
      "12  chromedriver                        0x00000001073efa44 chromedriver + 4971076\n",
      "13  chromedriver                        0x00000001073ca48e chromedriver + 4818062\n",
      "14  chromedriver                        0x00000001073f0559 chromedriver + 4973913\n",
      "15  chromedriver                        0x00000001073ba714 chromedriver + 4753172\n",
      "16  chromedriver                        0x0000000107412c08 chromedriver + 5114888\n",
      "17  chromedriver                        0x0000000107412dc7 chromedriver + 5115335\n",
      "18  chromedriver                        0x00000001074232d3 chromedriver + 5182163\n",
      "19  libsystem_pthread.dylib             0x00007ff8173301d3 _pthread_start + 125\n",
      "20  libsystem_pthread.dylib             0x00007ff81732bbd3 thread_start + 15\n",
      "\n"
     ]
    },
    {
     "name": "stderr",
     "output_type": "stream",
     "text": [
      " 81%|██████████████████████████████████████████████████████████████▍              | 796/982 [1:15:00<20:32,  6.63s/it]"
     ]
    },
    {
     "name": "stdout",
     "output_type": "stream",
     "text": [
      "Failed to download profile picture\n"
     ]
    },
    {
     "name": "stderr",
     "output_type": "stream",
     "text": [
      " 83%|███████████████████████████████████████████████████████████████▉             | 816/982 [1:17:06<17:13,  6.22s/it]"
     ]
    },
    {
     "name": "stdout",
     "output_type": "stream",
     "text": [
      "Failed to download profile picture\n"
     ]
    },
    {
     "name": "stderr",
     "output_type": "stream",
     "text": [
      " 83%|████████████████████████████████████████████████████████████████▏            | 818/982 [1:17:18<17:03,  6.24s/it]"
     ]
    },
    {
     "name": "stdout",
     "output_type": "stream",
     "text": [
      "Message: no such element: Unable to locate element: {\"method\":\"xpath\",\"selector\":\"//img[@title=\"Ioana Laura\"]\"}\n",
      "  (Session info: chrome=124.0.6367.201); For documentation on this error, please visit: https://www.selenium.dev/documentation/webdriver/troubleshooting/errors#no-such-element-exception\n",
      "Stacktrace:\n",
      "0   chromedriver                        0x000000010742ba78 chromedriver + 5216888\n",
      "1   chromedriver                        0x00000001074236b3 chromedriver + 5183155\n",
      "2   chromedriver                        0x0000000106f95527 chromedriver + 406823\n",
      "3   chromedriver                        0x0000000106fe0ff2 chromedriver + 716786\n",
      "4   chromedriver                        0x0000000106fe1181 chromedriver + 717185\n",
      "5   chromedriver                        0x00000001070251d4 chromedriver + 995796\n",
      "6   chromedriver                        0x000000010700372d chromedriver + 857901\n",
      "7   chromedriver                        0x00000001070226bf chromedriver + 984767\n",
      "8   chromedriver                        0x00000001070034a3 chromedriver + 857251\n",
      "9   chromedriver                        0x0000000106fd3fe3 chromedriver + 663523\n",
      "10  chromedriver                        0x0000000106fd492e chromedriver + 665902\n",
      "11  chromedriver                        0x00000001073e9990 chromedriver + 4946320\n",
      "12  chromedriver                        0x00000001073efa44 chromedriver + 4971076\n",
      "13  chromedriver                        0x00000001073ca48e chromedriver + 4818062\n",
      "14  chromedriver                        0x00000001073f0559 chromedriver + 4973913\n",
      "15  chromedriver                        0x00000001073ba714 chromedriver + 4753172\n",
      "16  chromedriver                        0x0000000107412c08 chromedriver + 5114888\n",
      "17  chromedriver                        0x0000000107412dc7 chromedriver + 5115335\n",
      "18  chromedriver                        0x00000001074232d3 chromedriver + 5182163\n",
      "19  libsystem_pthread.dylib             0x00007ff8173301d3 _pthread_start + 125\n",
      "20  libsystem_pthread.dylib             0x00007ff81732bbd3 thread_start + 15\n",
      "\n"
     ]
    },
    {
     "name": "stderr",
     "output_type": "stream",
     "text": [
      " 84%|████████████████████████████████████████████████████████████████▎            | 820/982 [1:17:31<17:01,  6.31s/it]"
     ]
    },
    {
     "name": "stdout",
     "output_type": "stream",
     "text": [
      "Failed to download profile picture\n"
     ]
    },
    {
     "name": "stderr",
     "output_type": "stream",
     "text": [
      " 85%|█████████████████████████████████████████████████████████████████▏           | 832/982 [1:18:46<15:38,  6.26s/it]"
     ]
    },
    {
     "name": "stdout",
     "output_type": "stream",
     "text": [
      "Failed to download profile picture\n"
     ]
    },
    {
     "name": "stderr",
     "output_type": "stream",
     "text": [
      " 86%|██████████████████████████████████████████████████████████████████▏          | 844/982 [1:20:00<14:15,  6.20s/it]"
     ]
    },
    {
     "name": "stdout",
     "output_type": "stream",
     "text": [
      "Failed to download profile picture\n"
     ]
    },
    {
     "name": "stderr",
     "output_type": "stream",
     "text": [
      " 88%|███████████████████████████████████████████████████████████████████▊         | 865/982 [1:22:11<12:03,  6.19s/it]"
     ]
    },
    {
     "name": "stdout",
     "output_type": "stream",
     "text": [
      "Message: no such element: Unable to locate element: {\"method\":\"xpath\",\"selector\":\"//img[@title=\"Petre Ogrezeanu\"]\"}\n",
      "  (Session info: chrome=124.0.6367.201); For documentation on this error, please visit: https://www.selenium.dev/documentation/webdriver/troubleshooting/errors#no-such-element-exception\n",
      "Stacktrace:\n",
      "0   chromedriver                        0x000000010742ba78 chromedriver + 5216888\n",
      "1   chromedriver                        0x00000001074236b3 chromedriver + 5183155\n",
      "2   chromedriver                        0x0000000106f95527 chromedriver + 406823\n",
      "3   chromedriver                        0x0000000106fe0ff2 chromedriver + 716786\n",
      "4   chromedriver                        0x0000000106fe1181 chromedriver + 717185\n",
      "5   chromedriver                        0x00000001070251d4 chromedriver + 995796\n",
      "6   chromedriver                        0x000000010700372d chromedriver + 857901\n",
      "7   chromedriver                        0x00000001070226bf chromedriver + 984767\n",
      "8   chromedriver                        0x00000001070034a3 chromedriver + 857251\n",
      "9   chromedriver                        0x0000000106fd3fe3 chromedriver + 663523\n",
      "10  chromedriver                        0x0000000106fd492e chromedriver + 665902\n",
      "11  chromedriver                        0x00000001073e9990 chromedriver + 4946320\n",
      "12  chromedriver                        0x00000001073efa44 chromedriver + 4971076\n",
      "13  chromedriver                        0x00000001073ca48e chromedriver + 4818062\n",
      "14  chromedriver                        0x00000001073f0559 chromedriver + 4973913\n",
      "15  chromedriver                        0x00000001073ba714 chromedriver + 4753172\n",
      "16  chromedriver                        0x0000000107412c08 chromedriver + 5114888\n",
      "17  chromedriver                        0x0000000107412dc7 chromedriver + 5115335\n",
      "18  chromedriver                        0x00000001074232d3 chromedriver + 5182163\n",
      "19  libsystem_pthread.dylib             0x00007ff8173301d3 _pthread_start + 125\n",
      "20  libsystem_pthread.dylib             0x00007ff81732bbd3 thread_start + 15\n",
      "\n"
     ]
    },
    {
     "name": "stderr",
     "output_type": "stream",
     "text": [
      " 90%|█████████████████████████████████████████████████████████████████████▍       | 885/982 [1:24:16<10:04,  6.23s/it]"
     ]
    },
    {
     "name": "stdout",
     "output_type": "stream",
     "text": [
      "Failed to download profile picture\n"
     ]
    },
    {
     "name": "stderr",
     "output_type": "stream",
     "text": [
      " 91%|██████████████████████████████████████████████████████████████████████▍      | 898/982 [1:25:39<09:00,  6.43s/it]"
     ]
    },
    {
     "name": "stdout",
     "output_type": "stream",
     "text": [
      "Failed to download profile picture\n"
     ]
    },
    {
     "name": "stderr",
     "output_type": "stream",
     "text": [
      " 92%|██████████████████████████████████████████████████████████████████████▋      | 902/982 [1:26:05<08:43,  6.54s/it]"
     ]
    },
    {
     "name": "stdout",
     "output_type": "stream",
     "text": [
      "Failed to download profile picture\n"
     ]
    },
    {
     "name": "stderr",
     "output_type": "stream",
     "text": [
      " 95%|█████████████████████████████████████████████████████████████████████████    | 932/982 [1:29:15<05:10,  6.20s/it]"
     ]
    },
    {
     "name": "stdout",
     "output_type": "stream",
     "text": [
      "Failed to download profile picture\n"
     ]
    },
    {
     "name": "stderr",
     "output_type": "stream",
     "text": [
      " 95%|█████████████████████████████████████████████████████████████████████████▍   | 936/982 [1:29:39<04:46,  6.22s/it]"
     ]
    },
    {
     "name": "stdout",
     "output_type": "stream",
     "text": [
      "Message: no such element: Unable to locate element: {\"method\":\"xpath\",\"selector\":\"//img[@title=\"Nicolás Salgado\"]\"}\n",
      "  (Session info: chrome=124.0.6367.201); For documentation on this error, please visit: https://www.selenium.dev/documentation/webdriver/troubleshooting/errors#no-such-element-exception\n",
      "Stacktrace:\n",
      "0   chromedriver                        0x000000010742ba78 chromedriver + 5216888\n",
      "1   chromedriver                        0x00000001074236b3 chromedriver + 5183155\n",
      "2   chromedriver                        0x0000000106f95527 chromedriver + 406823\n",
      "3   chromedriver                        0x0000000106fe0ff2 chromedriver + 716786\n",
      "4   chromedriver                        0x0000000106fe1181 chromedriver + 717185\n",
      "5   chromedriver                        0x00000001070251d4 chromedriver + 995796\n",
      "6   chromedriver                        0x000000010700372d chromedriver + 857901\n",
      "7   chromedriver                        0x00000001070226bf chromedriver + 984767\n",
      "8   chromedriver                        0x00000001070034a3 chromedriver + 857251\n",
      "9   chromedriver                        0x0000000106fd3fe3 chromedriver + 663523\n",
      "10  chromedriver                        0x0000000106fd492e chromedriver + 665902\n",
      "11  chromedriver                        0x00000001073e9990 chromedriver + 4946320\n",
      "12  chromedriver                        0x00000001073efa44 chromedriver + 4971076\n",
      "13  chromedriver                        0x00000001073ca48e chromedriver + 4818062\n",
      "14  chromedriver                        0x00000001073f0559 chromedriver + 4973913\n",
      "15  chromedriver                        0x00000001073ba714 chromedriver + 4753172\n",
      "16  chromedriver                        0x0000000107412c08 chromedriver + 5114888\n",
      "17  chromedriver                        0x0000000107412dc7 chromedriver + 5115335\n",
      "18  chromedriver                        0x00000001074232d3 chromedriver + 5182163\n",
      "19  libsystem_pthread.dylib             0x00007ff8173301d3 _pthread_start + 125\n",
      "20  libsystem_pthread.dylib             0x00007ff81732bbd3 thread_start + 15\n",
      "\n"
     ]
    },
    {
     "name": "stderr",
     "output_type": "stream",
     "text": [
      " 96%|█████████████████████████████████████████████████████████████████████████▉   | 943/982 [1:30:23<04:01,  6.19s/it]"
     ]
    },
    {
     "name": "stdout",
     "output_type": "stream",
     "text": [
      "Message: no such element: Unable to locate element: {\"method\":\"xpath\",\"selector\":\"//img[@title=\"Nicolai Percemli\"]\"}\n",
      "  (Session info: chrome=124.0.6367.201); For documentation on this error, please visit: https://www.selenium.dev/documentation/webdriver/troubleshooting/errors#no-such-element-exception\n",
      "Stacktrace:\n",
      "0   chromedriver                        0x000000010742ba78 chromedriver + 5216888\n",
      "1   chromedriver                        0x00000001074236b3 chromedriver + 5183155\n",
      "2   chromedriver                        0x0000000106f95527 chromedriver + 406823\n",
      "3   chromedriver                        0x0000000106fe0ff2 chromedriver + 716786\n",
      "4   chromedriver                        0x0000000106fe1181 chromedriver + 717185\n",
      "5   chromedriver                        0x00000001070251d4 chromedriver + 995796\n",
      "6   chromedriver                        0x000000010700372d chromedriver + 857901\n",
      "7   chromedriver                        0x00000001070226bf chromedriver + 984767\n",
      "8   chromedriver                        0x00000001070034a3 chromedriver + 857251\n",
      "9   chromedriver                        0x0000000106fd3fe3 chromedriver + 663523\n",
      "10  chromedriver                        0x0000000106fd492e chromedriver + 665902\n",
      "11  chromedriver                        0x00000001073e9990 chromedriver + 4946320\n",
      "12  chromedriver                        0x00000001073efa44 chromedriver + 4971076\n",
      "13  chromedriver                        0x00000001073ca48e chromedriver + 4818062\n",
      "14  chromedriver                        0x00000001073f0559 chromedriver + 4973913\n",
      "15  chromedriver                        0x00000001073ba714 chromedriver + 4753172\n",
      "16  chromedriver                        0x0000000107412c08 chromedriver + 5114888\n",
      "17  chromedriver                        0x0000000107412dc7 chromedriver + 5115335\n",
      "18  chromedriver                        0x00000001074232d3 chromedriver + 5182163\n",
      "19  libsystem_pthread.dylib             0x00007ff8173301d3 _pthread_start + 125\n",
      "20  libsystem_pthread.dylib             0x00007ff81732bbd3 thread_start + 15\n",
      "\n"
     ]
    },
    {
     "name": "stderr",
     "output_type": "stream",
     "text": [
      " 97%|██████████████████████████████████████████████████████████████████████████▎  | 948/982 [1:30:54<03:30,  6.20s/it]"
     ]
    },
    {
     "name": "stdout",
     "output_type": "stream",
     "text": [
      "Failed to download profile picture\n"
     ]
    },
    {
     "name": "stderr",
     "output_type": "stream",
     "text": [
      " 98%|███████████████████████████████████████████████████████████████████████████▍ | 962/982 [1:32:23<02:08,  6.42s/it]"
     ]
    },
    {
     "name": "stdout",
     "output_type": "stream",
     "text": [
      "Failed to download profile picture\n"
     ]
    },
    {
     "name": "stderr",
     "output_type": "stream",
     "text": [
      " 99%|████████████████████████████████████████████████████████████████████████████▌| 976/982 [1:33:50<00:37,  6.25s/it]"
     ]
    },
    {
     "name": "stdout",
     "output_type": "stream",
     "text": [
      "Failed to download profile picture\n"
     ]
    },
    {
     "name": "stderr",
     "output_type": "stream",
     "text": [
      "100%|█████████████████████████████████████████████████████████████████████████████| 982/982 [1:34:28<00:00,  5.77s/it]\n"
     ]
    }
   ],
   "source": [
    "\n",
    "    \n",
    "    \n",
    "num_fails = 0\n",
    "try:\n",
    "    names = []\n",
    "    for i in tqdm(range(len(employees))):\n",
    "        name = None\n",
    "        try:\n",
    "            if employees[i]['pfp'] is None:\n",
    "                driver.get(employees[i]['profile'])\n",
    "                title = driver.title\n",
    "                name = title.split('|')[0]\n",
    "                name = remove_notification(name)\n",
    "                name = name.strip()\n",
    "                employees[i]['name'] = name\n",
    "                \n",
    "                time.sleep(3)\n",
    "                \n",
    "                try:\n",
    "                    image_element = driver.find_element(By.XPATH, f'//img[@title=\"{name}\"]')\n",
    "                    img_url = image_element.get_attribute('src')\n",
    "                except Exception as e:\n",
    "                    print(e)\n",
    "                    try:\n",
    "                        image_element = driver.find_element(By.XPATH, f'//img[@title=\"{name}, #OPEN_TO_WORK\"]')\n",
    "                        img_url = image_element.get_attribute('src')\n",
    "                    except:\n",
    "                        image_element = driver.find_element(By.XPATH, f'//img[@title=\"{name}, #HIRING\"]')\n",
    "                        img_url = image_element.get_attribute('src')\n",
    "                        \n",
    "                path = f'./data/PFP/{i}.jpeg'\n",
    "                get_pfp(url=img_url, path=path)\n",
    "                time.sleep(2)\n",
    "                employees[i]['pfp'] = path\n",
    "                num_fails = 0\n",
    "            else:\n",
    "                continue\n",
    "                \n",
    "        except Exception as e:\n",
    "            num_fails += 1\n",
    "            if num_fails >= 5:\n",
    "                input('Reached max download failures. Press enter to exit:')\n",
    "                break\n",
    "            print('Failed to download profile picture')\n",
    "            if name is not None:\n",
    "                employees[i]['name'] = name\n",
    "            else:\n",
    "                employees[i]['name'] = 'placeholder'\n",
    "                \n",
    "                \n",
    "            employees[i]['pfp'] = './data/PFP/0.jpeg'\n",
    "            \n",
    "            time.sleep(2)\n",
    "            pass\n",
    "        \n",
    "except KeyboardInterrupt:\n",
    "    print('Execution has paused!')\n",
    "\n",
    "except Exception as e:\n",
    "    print(e)\n",
    "    pass\n",
    "        \n",
    "        \n"
   ]
  },
  {
   "cell_type": "code",
   "execution_count": 65,
   "metadata": {},
   "outputs": [],
   "source": [
    "for i in range(len(employees)):\n",
    "    employees[i]['job_title'] = 'job title'"
   ]
  },
  {
   "cell_type": "code",
   "execution_count": 66,
   "metadata": {},
   "outputs": [],
   "source": [
    "\n",
    "\n",
    "data = {\n",
    "    \"employees\": employees\n",
    "}\n",
    "with open(\"data/data_2.json\", \"w\") as json_file:\n",
    "    # Write the dictionary to the JSON file\n",
    "    json.dump(data, json_file, indent=4)"
   ]
  },
  {
   "cell_type": "code",
   "execution_count": 58,
   "metadata": {},
   "outputs": [],
   "source": [
    "driver.quit()"
   ]
  },
  {
   "cell_type": "code",
   "execution_count": 58,
   "metadata": {},
   "outputs": [],
   "source": [
    "def get_employee_urls(driver):\n",
    "    profile_urls = []\n",
    "    li_elements = driver.find_elements(By.XPATH,\"//ul[@class='display-flex list-style-none flex-wrap']/li\")\n",
    "\n",
    "    # Print the text of each li element\n",
    "    for li in li_elements:\n",
    "        try:\n",
    "            a_element = li.find_element(By.XPATH,\".//a[@class='app-aware-link ']\")\n",
    "            href_value = a_element.get_attribute(\"href\")\n",
    "            if '?' in href_value:\n",
    "                employee_url = href_value.split('?')[0]\n",
    "            else:\n",
    "                employee_url = href_value\n",
    "            print(employee_url)\n",
    "            profile_urls.append(employee_url)\n",
    "        except:\n",
    "            pass\n",
    "    return profile_urls\n",
    "\n",
    "def lazy_load(driver):\n",
    "    # Get the initial height of the page\n",
    "    last_height = driver.execute_script(\"return document.body.scrollHeight\")\n",
    "\n",
    "    while True:\n",
    "        # Scroll down to the bottom\n",
    "        driver.execute_script(\"window.scrollTo(0, document.body.scrollHeight);\")\n",
    "        # Wait for the page to load\n",
    "        time.sleep(2)\n",
    "        \n",
    "        # Calculate new height and compare with the last height\n",
    "        new_height = driver.execute_script(\"return document.body.scrollHeight\")\n",
    "        \n",
    "        # Break the loop if the height doesn't change after scrolling\n",
    "        if new_height == last_height:\n",
    "            try:\n",
    "                more_results_btn = driver.find_element(By.XPATH,\"//button[@class='artdeco-button artdeco-button--muted artdeco-button--1 artdeco-button--full artdeco-button--secondary ember-view scaffold-finite-scroll__load-button']\")\n",
    "                more_results_btn.click()\n",
    "                time.sleep(2)\n",
    "                driver.execute_script(\"window.scrollTo(0, document.body.scrollHeight);\")\n",
    "                time.sleep(2)\n",
    "                new_height = driver.execute_script(\"return document.body.scrollHeight\")\n",
    "            except NoSuchElementException:\n",
    "                break\n",
    "        \n",
    "        last_height = new_height\n",
    "\n"
   ]
  },
  {
   "cell_type": "code",
   "execution_count": 61,
   "metadata": {},
   "outputs": [
    {
     "name": "stdout",
     "output_type": "stream",
     "text": [
      "https://www.linkedin.com/in/brace-larsen-engineer\n",
      "https://www.linkedin.com/in/williamdunston\n",
      "https://www.linkedin.com/in/michelle-tufano\n",
      "https://www.linkedin.com/in/monica-mih%C3%A3escu-99829218\n",
      "https://www.linkedin.com/in/srimathi-srinivasanutaustin\n",
      "https://www.linkedin.com/in/stevensarcinella\n",
      "https://www.linkedin.com/in/taylorthrasher\n",
      "https://www.linkedin.com/in/tamigill\n",
      "https://www.linkedin.com/in/1-929-5-albert\n",
      "https://www.linkedin.com/in/nikkiniemczycki\n",
      "https://www.linkedin.com/in/priyankasehverma\n",
      "https://www.linkedin.com/in/rachellhernandez\n",
      "https://www.linkedin.com/in/rebecca-hunter-8bb9744\n",
      "https://www.linkedin.com/in/holleyanstatt\n",
      "https://www.linkedin.com/in/jason-rideout-06821b15\n",
      "https://www.linkedin.com/in/katmarieperez\n",
      "https://www.linkedin.com/in/kimberly-teague-tibbetts\n",
      "https://www.linkedin.com/in/adam-dezsi\n",
      "https://www.linkedin.com/in/abigail-devries-9734ba190\n",
      "https://www.linkedin.com/in/alicia-a-cristini-45ba1987\n",
      "https://www.linkedin.com/in/han-zhang-01\n",
      "https://www.linkedin.com/in/shelly-franke-2171646\n",
      "https://www.linkedin.com/in/cliffpyles\n",
      "https://www.linkedin.com/in/ryan-m-8411a1128\n",
      "https://www.linkedin.com/in/garystorey655\n",
      "https://www.linkedin.com/in/nicole-mcintyre-ctp-78521012\n",
      "https://www.linkedin.com/in/robert-john-aa9226a\n",
      "https://www.linkedin.com/in/jahnsen\n",
      "https://www.linkedin.com/in/nhernan992\n",
      "https://www.linkedin.com/in/zoya-lieberman-mba-ctp-5aa6851\n",
      "https://www.linkedin.com/in/jacob-weinman\n",
      "https://www.linkedin.com/in/vespera-palmares\n",
      "https://www.linkedin.com/in/michael-beranek-24a2044\n",
      "https://www.linkedin.com/in/rob-lewis-443968aa\n",
      "https://www.linkedin.com/in/tamera-tibbatts-77319364\n",
      "https://www.linkedin.com/in/joshua-arnold\n",
      "https://www.linkedin.com/in/jason-deville\n",
      "https://www.linkedin.com/in/jacqueline-ann-rimmer-550477104\n",
      "https://www.linkedin.com/in/williamherridge\n",
      "https://www.linkedin.com/in/matthewhughesee\n",
      "https://www.linkedin.com/in/stephanie-camargo-57ab2314b\n",
      "https://www.linkedin.com/in/maria-rojas-87845720\n",
      "https://www.linkedin.com/in/stevemoser\n",
      "https://www.linkedin.com/in/matthew-rubertone-348a2553\n",
      "https://www.linkedin.com/in/shayne-cassidy\n",
      "https://www.linkedin.com/in/brianoktavec\n",
      "https://www.linkedin.com/in/thomas-burke1\n",
      "https://www.linkedin.com/in/jacobrose89\n",
      "https://www.linkedin.com/in/rachel-utter-phr-24334ba1\n",
      "https://www.linkedin.com/in/annabjordan\n",
      "https://www.linkedin.com/in/stephanie-joyce-770a901b\n",
      "https://www.linkedin.com/in/alexandra-lozano\n",
      "https://www.linkedin.com/in/mattbhaag\n",
      "https://www.linkedin.com/in/chaffeesteve\n",
      "https://www.linkedin.com/in/gildas-dongmo-72b371144\n",
      "https://www.linkedin.com/in/alan-schmitt-2037311b1\n",
      "https://www.linkedin.com/in/catherine-golding-921377111\n",
      "https://www.linkedin.com/in/majorbottoms\n",
      "https://www.linkedin.com/in/jtkeller2\n",
      "https://www.linkedin.com/in/american-fabio2019\n",
      "https://www.linkedin.com/in/ejohn3519\n",
      "https://www.linkedin.com/in/brady-lowe-b43b58a1\n",
      "https://www.linkedin.com/in/belalbayaa\n",
      "https://www.linkedin.com/in/man-in-motion\n",
      "https://www.linkedin.com/in/fullerfred\n",
      "https://www.linkedin.com/in/melissataddonio\n",
      "https://www.linkedin.com/in/valgraham\n",
      "https://www.linkedin.com/in/milena-pagovska-96896772\n",
      "https://www.linkedin.com/in/ivancolumbich\n",
      "https://www.linkedin.com/in/rodrigo-gonzalez-b5962573\n",
      "https://www.linkedin.com/in/ben-hunter-aa2b4714\n",
      "https://www.linkedin.com/in/jonathanchap\n",
      "https://www.linkedin.com/in/mkezmkez\n",
      "https://www.linkedin.com/in/shaun-bruner-200b415\n",
      "https://www.linkedin.com/in/john-scott-64633a36\n",
      "https://www.linkedin.com/in/gbrandondennis\n",
      "https://www.linkedin.com/in/bhamlett\n",
      "https://www.linkedin.com/in/rjsalicco\n",
      "https://www.linkedin.com/in/elias-mills-7a6a711b4\n",
      "https://www.linkedin.com/in/laurenobrienit\n",
      "https://www.linkedin.com/in/marcus-leomartinz-b4620b166\n",
      "https://www.linkedin.com/in/fuadatasoy\n",
      "https://www.linkedin.com/in/kelly-shaw-3bb76a120\n",
      "https://www.linkedin.com/in/dugstu\n",
      "https://www.linkedin.com/in/adam-bridgewater\n",
      "https://www.linkedin.com/in/angelena-ward\n",
      "https://www.linkedin.com/in/michaelc-andrews\n",
      "https://www.linkedin.com/in/jorge-luis-quintero-gonzalez-a899349b\n",
      "https://www.linkedin.com/in/ethan-collins-b46124196\n",
      "https://www.linkedin.com/in/nainika-rajesh-064991227\n",
      "https://www.linkedin.com/in/abengtson\n",
      "https://www.linkedin.com/in/andrew-mcguire-a47a49190\n",
      "https://www.linkedin.com/in/kariellsworth\n",
      "https://www.linkedin.com/in/lukerbs\n",
      "https://www.linkedin.com/in/adam-hodson-978994227\n"
     ]
    }
   ],
   "source": [
    "\n",
    "def remove_duplicate_lines(string):\n",
    "    lines = string.splitlines()\n",
    "    lines = list(set(lines))\n",
    "    out_string = \"\\n\".join([line.strip() for line in lines])\n",
    "    out_string = out_string.strip()\n",
    "    return out_string\n",
    "\n",
    "def filter_duplicates(experiences):\n",
    "    out = []\n",
    "    for experience in experiences:\n",
    "        duplicate = False\n",
    "        for element in out:\n",
    "            if experience in element:\n",
    "                duplicate = True\n",
    "                break\n",
    "        if duplicate:\n",
    "            continue\n",
    "\n",
    "        if experience not in out:\n",
    "            out.append(experience)\n",
    "    return out\n",
    "\n",
    "\n",
    "def crawl_employee(driver, profile_url):\n",
    "    # driver.get(profile_url)\n",
    "    # time.sleep(3)\n",
    "    # name_div = driver.find_element(By.XPATH,\".//h1[@class='text-heading-xlarge inline t-24 v-align-middle break-words']\")\n",
    "    # name = name_div.text\n",
    "    # print(name)\n",
    "\n",
    "    # about_div = driver.find_element(By.XPATH, \"//*[@id='profile-content']/div/div[2]/div/div/main/section[4]/div[3]/div/div/div/span[2]\")\n",
    "    # about = about_div.text\n",
    "    # print(about)\n",
    "\n",
    "    driver.get(f\"{profile_url}/details/experience\")\n",
    "    time.sleep(2)\n",
    "\n",
    "    experience_container = driver.find_element(By.XPATH, \"//div[@class='scaffold-finite-scroll__content']\")\n",
    "    experience_list = experience_container.find_elements(By.XPATH, \".//span[@class='visually-hidden']\")\n",
    "    experiences = ''\n",
    "    for experience in experience_list:\n",
    "        experiences = f\"{experiences}\\n{experience.text}\"\n",
    "    experiences = experiences.strip()\n",
    "    return experiences\n",
    "\n",
    "try:\n",
    "    employees = []\n",
    "    driver.get(COMPANY_PROFILE_URL)\n",
    "    lazy_load(driver=driver)\n",
    "    profile_urls = get_employee_urls(driver=driver)\n",
    "    for i,_ in enumerate(profile_urls):\n",
    "        experience = crawl_employee(driver=driver, profile_url=profile_urls[i])\n",
    "        file_path = f\"./data/experience/{i}.txt\"\n",
    "        with open(file_path, \"w\") as file:\n",
    "            file.write(experience)\n",
    "        data = {\n",
    "            \"id\": str(i),\n",
    "            \"profile\": profile_urls[i],\n",
    "            \"description\": file_path\n",
    "        }\n",
    "        employees.append(data)\n",
    "    \n",
    "except Exception as e:\n",
    "    print(e)\n",
    "\n",
    "\n",
    "\n",
    "\n"
   ]
  },
  {
   "cell_type": "code",
   "execution_count": 63,
   "metadata": {},
   "outputs": [
    {
     "name": "stdout",
     "output_type": "stream",
     "text": [
      "95\n",
      "{'id': '0', 'profile': 'https://www.linkedin.com/in/brace-larsen-engineer', 'description': './data/experience/0.txt'}\n"
     ]
    }
   ],
   "source": [
    "try:\n",
    "    import json\n",
    "    print(len(employees))\n",
    "    print(employees[0])\n",
    "    data = {\n",
    "        \"employees\": employees\n",
    "    }\n",
    "    with open(\"data/data.json\", \"w\") as json_file:\n",
    "        # Write the dictionary to the JSON file\n",
    "        json.dump(data, json_file, indent=4)\n",
    "except:\n",
    "    pass"
   ]
  }
 ],
 "metadata": {
  "kernelspec": {
   "display_name": "Python 3 (ipykernel)",
   "language": "python",
   "name": "python3"
  },
  "language_info": {
   "codemirror_mode": {
    "name": "ipython",
    "version": 3
   },
   "file_extension": ".py",
   "mimetype": "text/x-python",
   "name": "python",
   "nbconvert_exporter": "python",
   "pygments_lexer": "ipython3",
   "version": "3.10.2"
  }
 },
 "nbformat": 4,
 "nbformat_minor": 4
}
