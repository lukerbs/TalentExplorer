{
 "cells": [
  {
   "cell_type": "code",
   "execution_count": 19,
   "id": "239fd008-3de3-480c-be02-33b1fc9c2aa4",
   "metadata": {},
   "outputs": [],
   "source": [
    "import numpy as np\n",
    "import pandas as pd\n",
    "from sklearn.manifold import TSNE\n",
    "import plotly.express as px\n",
    "import json\n",
    "import plotly.graph_objects as go"
   ]
  },
  {
   "cell_type": "code",
   "execution_count": 14,
   "id": "bc5fcd77-3d7d-443c-a22c-dd6934c81657",
   "metadata": {},
   "outputs": [],
   "source": [
    "with open('./data/data.json', 'r') as json_file:\n",
    "    data = json.load(json_file)\n",
    "    employees = data['employees']\n",
    "    \n",
    "profile_urls = [f\"{i}: {employees[i]['job_title']}\" for i,_ in enumerate(employees)]\n",
    "    \n",
    "    \n",
    "    \n"
   ]
  },
  {
   "cell_type": "code",
   "execution_count": 15,
   "id": "a49e66fe-6ce1-48f0-95a2-3de96312b8cd",
   "metadata": {},
   "outputs": [
    {
     "name": "stdout",
     "output_type": "stream",
     "text": [
      "[-0.02887947  0.00257788 -0.02663589 -0.03318716 -0.00689679]\n"
     ]
    }
   ],
   "source": [
    "embeddings = np.load('./data/embeddings.npy')\n",
    "print(embeddings[0][:5])\n",
    "labels = profile_urls #[f\"Label {i}\" for i in range(len(embeddings))]\n"
   ]
  },
  {
   "cell_type": "code",
   "execution_count": 16,
   "id": "692dbdce-a17c-407c-b42b-b99807c846d1",
   "metadata": {},
   "outputs": [],
   "source": [
    "# Compute t-SNE\n",
    "tsne = TSNE(n_components=2, random_state=42)\n",
    "tsne_results = tsne.fit_transform(embeddings)"
   ]
  },
  {
   "cell_type": "code",
   "execution_count": 11,
   "id": "8c9cdf33-fbaf-4f66-9777-16822f3ddb50",
   "metadata": {},
   "outputs": [],
   "source": [
    "# Create a DataFrame for plotting\n",
    "df = pd.DataFrame(tsne_results, columns=['x', 'y'])\n",
    "df['label'] = labels"
   ]
  },
  {
   "cell_type": "code",
   "execution_count": 12,
   "id": "7b03484b-c608-4ad3-bbb9-894b7553cfef",
   "metadata": {},
   "outputs": [
    {
     "data": {
      "application/vnd.plotly.v1+json": {
       "config": {
        "plotlyServerURL": "https://plot.ly"
       },
       "data": [
        {
         "customdata": [
          [
           "Head of Architecture - North America"
          ],
          [
           "Full-stack Developer"
          ],
          [
           "Product Manager"
          ],
          [
           "Program Delivery Manager"
          ],
          [
           "Product Strategy/Principal Industry Consultant"
          ],
          [
           "Senior Software Developer | Consultant"
          ],
          [
           "Data Architect"
          ],
          [
           "Head of Development"
          ],
          [
           "Project Management Consultant"
          ],
          [
           "Senior Talent Acquisition Lead, North America"
          ],
          [
           "Product Owner, Transportation & Logistics"
          ],
          [
           "Head of Project Management & Analysis"
          ],
          [
           "Development Consultant"
          ],
          [
           "M&A Integration Program Manager - Americas"
          ],
          [
           "Director; AGU Lead - Transportation and Logistics"
          ],
          [
           "Head of User Experience & Research"
          ],
          [
           "Principal Industry Consultant"
          ],
          [
           "Software Engineer"
          ],
          [
           "Software Developer"
          ],
          [
           "Head of Learning and Organization Development, North America"
          ],
          [
           "Application Architect / Design Lead"
          ],
          [
           "Senior Consultant Financial Services"
          ],
          [
           "Principal Engineering Consultant"
          ],
          [
           "Onsite Technical Lead: Americas"
          ],
          [
           "Development Consultant"
          ],
          [
           "Senior Industry Consultant"
          ],
          [
           "Sr Consulting Manager-Product Strategy-Banking, Financial Services and Payments"
          ],
          [
           "Data Annotation Supervisor"
          ],
          [
           "Head of Talent Acquisition, North America"
          ],
          [
           "Senior Industry Consultant"
          ],
          [
           "Business Analyst"
          ],
          [
           "UX Designer"
          ],
          [
           "Senior Software Engineer"
          ],
          [
           "Product Owner"
          ],
          [
           "Senior Industry Consultant"
          ],
          [
           "VP Delivery Manager- Strategy - Retail and Corporate Banking"
          ],
          [
           "Developer"
          ],
          [
           "Senior Project Manager"
          ],
          [
           "Senior Industry Consultant"
          ],
          [
           "Solutions Delivery Consultant"
          ],
          [
           "Senior Business Analyst"
          ],
          [
           "Agile Project Manager"
          ],
          [
           "Technical Product Design Analyst"
          ],
          [
           "Senior Developer"
          ],
          [
           "Senior Software Engineer"
          ],
          [
           "Software Engineer II"
          ],
          [
           "Programme and Portfolio Management Officer"
          ],
          [
           "Agile Project Manager"
          ],
          [
           "People Specialist"
          ],
          [
           "Lead Product Strategist"
          ],
          [
           "Senior Consultant"
          ],
          [
           "Senior Programme and Portfolio Management Officer"
          ],
          [
           "Pickleball Instructor (part-time)"
          ],
          [
           "Connected Mobility and IIoT Consultant - Transportation, Logistics and Manufacturing"
          ],
          [
           "Engineer Consultant"
          ],
          [
           "Associate Engineering Consultant"
          ],
          [
           "Senior Project Management Consultant"
          ],
          [
           "Senior Research Consultant"
          ],
          [
           "Senior Lead Software Engineer"
          ],
          [
           "Senior Business Analyst"
          ],
          [
           "Software Engineering Consultant"
          ],
          [
           "Technical Lead"
          ],
          [
           "CloudOps Manager"
          ],
          [
           "Delivery Partner (3D Technical Artist)"
          ],
          [
           "Global Head of Banking and Capital Markets Sales"
          ],
          [
           "Senior Product Designer"
          ],
          [
           "Agile Project Manager"
          ],
          [
           "Senior Business Analyst"
          ],
          [
           "Project Delivery Manager"
          ],
          [
           "Senior Developer"
          ],
          [
           "Cloud Architect"
          ],
          [
           "Senior Business Analyst"
          ],
          [
           "Marketing Developer"
          ],
          [
           "Director"
          ],
          [
           "Industry Consultant - Financial Services & Payments"
          ],
          [
           "Sr Consultant"
          ],
          [
           "Senior Delivery Manager"
          ],
          [
           "Senior Architect"
          ],
          [
           "Senior Data Scientist"
          ],
          [
           "Owner | Head Writer"
          ],
          [
           "Senior Business Consultant"
          ],
          [
           "Software Quality Assurance Tester"
          ],
          [
           "Engineering Consultant"
          ],
          [
           "Principal Product Strategist"
          ],
          [
           "UX Lead"
          ],
          [
           "Senior UX Designer"
          ],
          [
           "Senior Visual Designer"
          ],
          [
           "Senior Software Engineer"
          ],
          [
           "Software Engineer"
          ],
          [
           "Developer"
          ],
          [
           "Technical Artist"
          ],
          [
           "Sr DecSecOps"
          ],
          [
           "AR/AP Manager"
          ],
          [
           "Senior Data Scientist"
          ],
          [
           "Insurance Consultant"
          ]
         ],
         "hovertemplate": "x=%{x}<br>y=%{y}<br>label=%{customdata[0]}<extra></extra>",
         "legendgroup": "",
         "marker": {
          "color": "#636efa",
          "symbol": "circle"
         },
         "mode": "markers",
         "name": "",
         "orientation": "v",
         "showlegend": false,
         "type": "scatter",
         "x": [
          -3.7176883220672607,
          -1.8920021057128906,
          -5.79838752746582,
          -1.5927622318267822,
          -3.267695188522339,
          -2.5762369632720947,
          -4.874321937561035,
          -2.8827764987945557,
          3.931691884994507,
          0.6366509795188904,
          -5.925736427307129,
          -2.10782527923584,
          1.933029294013977,
          -0.2233581393957138,
          2.3932836055755615,
          -5.335541248321533,
          2.5798075199127197,
          -0.30949336290359497,
          -0.9391942024230957,
          0.7848719954490662,
          -2.8057267665863037,
          -4.208336353302002,
          0.42806631326675415,
          0.6399701237678528,
          -0.2691393792629242,
          1.652789831161499,
          -4.41939640045166,
          -1.5156724452972412,
          2.3861029148101807,
          1.770641803741455,
          -5.370871543884277,
          -5.684333324432373,
          1.194449543952942,
          -2.2103800773620605,
          1.5346941947937012,
          -3.584397077560425,
          -2.222099781036377,
          -1.0914212465286255,
          -4.6853718757629395,
          2.837829351425171,
          -0.7528076171875,
          1.0764080286026,
          1.32675039768219,
          -0.14195381104946136,
          -0.4999305009841919,
          -1.271148443222046,
          -1.3683161735534668,
          -1.012798547744751,
          2.5364577770233154,
          -5.79024600982666,
          2.834686517715454,
          -1.8897501230239868,
          -2.475278615951538,
          -4.444396495819092,
          -2.1210715770721436,
          3.200855016708374,
          2.2157280445098877,
          3.4067490100860596,
          -3.5951027870178223,
          -1.6820566654205322,
          2.357166051864624,
          -1.9144231081008911,
          1.7451294660568237,
          -7.384158611297607,
          2.4363996982574463,
          -4.600676536560059,
          -0.23426242172718048,
          0.6557104587554932,
          -1.8112874031066895,
          -3.6431996822357178,
          -1.3153446912765503,
          0.1424957513809204,
          0.6650707721710205,
          1.2483972311019897,
          -4.63322114944458,
          0.514082133769989,
          -0.31766971945762634,
          -0.40655121207237244,
          1.102420449256897,
          -4.280477046966553,
          4.21462869644165,
          -6.35690450668335,
          3.90942645072937,
          -4.748449802398682,
          -5.365939617156982,
          -5.67753267288208,
          -7.0060343742370605,
          2.245948314666748,
          1.666232705116272,
          -1.2191851139068604,
          -7.357550144195557,
          3.5592970848083496,
          4.165590763092041,
          -1.4020992517471313,
          4.865342617034912
         ],
         "xaxis": "x",
         "y": [
          -4.344359397888184,
          -5.388615131378174,
          -1.8295081853866577,
          1.6542439460754395,
          0.14268232882022858,
          -4.059985160827637,
          -4.58120584487915,
          -4.622891902923584,
          -1.7745658159255981,
          0.1910214126110077,
          -3.5617787837982178,
          -0.23484881222248077,
          -2.55928111076355,
          1.0582703351974487,
          -0.07493302971124649,
          0.22582419216632843,
          1.8237332105636597,
          -5.107870101928711,
          -6.512235641479492,
          0.40247291326522827,
          -5.079458713531494,
          -1.7908693552017212,
          -4.558324813842773,
          -2.498685121536255,
          -4.614079475402832,
          2.7076008319854736,
          -1.9257596731185913,
          -2.5549545288085938,
          0.3433302342891693,
          3.0384628772735596,
          -2.7060489654541016,
          1.1786906719207764,
          -3.0588207244873047,
          -1.6943423748016357,
          2.6464197635650635,
          -1.527280569076538,
          -3.592528820037842,
          0.018515825271606445,
          -4.373503684997559,
          -4.395162105560303,
          -1.3524900674819946,
          -0.716920018196106,
          -3.415648937225342,
          -6.3155317306518555,
          -5.5138444900512695,
          -5.794976711273193,
          0.38022148609161377,
          1.2277255058288574,
          -1.1944416761398315,
          -1.5112907886505127,
          1.2097771167755127,
          1.2078700065612793,
          -0.7132194638252258,
          -3.6708590984344482,
          -6.454192161560059,
          -3.11533784866333,
          -0.8816334009170532,
          -0.45556432008743286,
          -3.438613176345825,
          3.0309243202209473,
          -3.1771390438079834,
          -2.4305920600891113,
          -4.390552043914795,
          0.7032809853553772,
          2.0821495056152344,
          2.058368682861328,
          0.4264402687549591,
          -1.2112669944763184,
          2.293581962585449,
          -5.756558418273926,
          -3.9483542442321777,
          -1.8393110036849976,
          -5.534215450286865,
          -4.338316440582275,
          -2.3415164947509766,
          -3.197101354598999,
          -2.918637275695801,
          -3.7235419750213623,
          -7.071695804595947,
          -2.81022310256958,
          -3.810330629348755,
          -3.9255943298339844,
          -3.902194023132324,
          0.7252851724624634,
          1.0925688743591309,
          1.6623938083648682,
          0.7692090272903442,
          -5.418610572814941,
          -5.173569202423096,
          -7.379539966583252,
          0.7388889193534851,
          -5.808051109313965,
          0.16179920732975006,
          -4.863432884216309,
          -3.6845545768737793
         ],
         "yaxis": "y"
        }
       ],
       "layout": {
        "autosize": true,
        "legend": {
         "tracegroupgap": 0
        },
        "template": {
         "data": {
          "bar": [
           {
            "error_x": {
             "color": "#2a3f5f"
            },
            "error_y": {
             "color": "#2a3f5f"
            },
            "marker": {
             "line": {
              "color": "#E5ECF6",
              "width": 0.5
             },
             "pattern": {
              "fillmode": "overlay",
              "size": 10,
              "solidity": 0.2
             }
            },
            "type": "bar"
           }
          ],
          "barpolar": [
           {
            "marker": {
             "line": {
              "color": "#E5ECF6",
              "width": 0.5
             },
             "pattern": {
              "fillmode": "overlay",
              "size": 10,
              "solidity": 0.2
             }
            },
            "type": "barpolar"
           }
          ],
          "carpet": [
           {
            "aaxis": {
             "endlinecolor": "#2a3f5f",
             "gridcolor": "white",
             "linecolor": "white",
             "minorgridcolor": "white",
             "startlinecolor": "#2a3f5f"
            },
            "baxis": {
             "endlinecolor": "#2a3f5f",
             "gridcolor": "white",
             "linecolor": "white",
             "minorgridcolor": "white",
             "startlinecolor": "#2a3f5f"
            },
            "type": "carpet"
           }
          ],
          "choropleth": [
           {
            "colorbar": {
             "outlinewidth": 0,
             "ticks": ""
            },
            "type": "choropleth"
           }
          ],
          "contour": [
           {
            "colorbar": {
             "outlinewidth": 0,
             "ticks": ""
            },
            "colorscale": [
             [
              0,
              "#0d0887"
             ],
             [
              0.1111111111111111,
              "#46039f"
             ],
             [
              0.2222222222222222,
              "#7201a8"
             ],
             [
              0.3333333333333333,
              "#9c179e"
             ],
             [
              0.4444444444444444,
              "#bd3786"
             ],
             [
              0.5555555555555556,
              "#d8576b"
             ],
             [
              0.6666666666666666,
              "#ed7953"
             ],
             [
              0.7777777777777778,
              "#fb9f3a"
             ],
             [
              0.8888888888888888,
              "#fdca26"
             ],
             [
              1,
              "#f0f921"
             ]
            ],
            "type": "contour"
           }
          ],
          "contourcarpet": [
           {
            "colorbar": {
             "outlinewidth": 0,
             "ticks": ""
            },
            "type": "contourcarpet"
           }
          ],
          "heatmap": [
           {
            "colorbar": {
             "outlinewidth": 0,
             "ticks": ""
            },
            "colorscale": [
             [
              0,
              "#0d0887"
             ],
             [
              0.1111111111111111,
              "#46039f"
             ],
             [
              0.2222222222222222,
              "#7201a8"
             ],
             [
              0.3333333333333333,
              "#9c179e"
             ],
             [
              0.4444444444444444,
              "#bd3786"
             ],
             [
              0.5555555555555556,
              "#d8576b"
             ],
             [
              0.6666666666666666,
              "#ed7953"
             ],
             [
              0.7777777777777778,
              "#fb9f3a"
             ],
             [
              0.8888888888888888,
              "#fdca26"
             ],
             [
              1,
              "#f0f921"
             ]
            ],
            "type": "heatmap"
           }
          ],
          "heatmapgl": [
           {
            "colorbar": {
             "outlinewidth": 0,
             "ticks": ""
            },
            "colorscale": [
             [
              0,
              "#0d0887"
             ],
             [
              0.1111111111111111,
              "#46039f"
             ],
             [
              0.2222222222222222,
              "#7201a8"
             ],
             [
              0.3333333333333333,
              "#9c179e"
             ],
             [
              0.4444444444444444,
              "#bd3786"
             ],
             [
              0.5555555555555556,
              "#d8576b"
             ],
             [
              0.6666666666666666,
              "#ed7953"
             ],
             [
              0.7777777777777778,
              "#fb9f3a"
             ],
             [
              0.8888888888888888,
              "#fdca26"
             ],
             [
              1,
              "#f0f921"
             ]
            ],
            "type": "heatmapgl"
           }
          ],
          "histogram": [
           {
            "marker": {
             "pattern": {
              "fillmode": "overlay",
              "size": 10,
              "solidity": 0.2
             }
            },
            "type": "histogram"
           }
          ],
          "histogram2d": [
           {
            "colorbar": {
             "outlinewidth": 0,
             "ticks": ""
            },
            "colorscale": [
             [
              0,
              "#0d0887"
             ],
             [
              0.1111111111111111,
              "#46039f"
             ],
             [
              0.2222222222222222,
              "#7201a8"
             ],
             [
              0.3333333333333333,
              "#9c179e"
             ],
             [
              0.4444444444444444,
              "#bd3786"
             ],
             [
              0.5555555555555556,
              "#d8576b"
             ],
             [
              0.6666666666666666,
              "#ed7953"
             ],
             [
              0.7777777777777778,
              "#fb9f3a"
             ],
             [
              0.8888888888888888,
              "#fdca26"
             ],
             [
              1,
              "#f0f921"
             ]
            ],
            "type": "histogram2d"
           }
          ],
          "histogram2dcontour": [
           {
            "colorbar": {
             "outlinewidth": 0,
             "ticks": ""
            },
            "colorscale": [
             [
              0,
              "#0d0887"
             ],
             [
              0.1111111111111111,
              "#46039f"
             ],
             [
              0.2222222222222222,
              "#7201a8"
             ],
             [
              0.3333333333333333,
              "#9c179e"
             ],
             [
              0.4444444444444444,
              "#bd3786"
             ],
             [
              0.5555555555555556,
              "#d8576b"
             ],
             [
              0.6666666666666666,
              "#ed7953"
             ],
             [
              0.7777777777777778,
              "#fb9f3a"
             ],
             [
              0.8888888888888888,
              "#fdca26"
             ],
             [
              1,
              "#f0f921"
             ]
            ],
            "type": "histogram2dcontour"
           }
          ],
          "mesh3d": [
           {
            "colorbar": {
             "outlinewidth": 0,
             "ticks": ""
            },
            "type": "mesh3d"
           }
          ],
          "parcoords": [
           {
            "line": {
             "colorbar": {
              "outlinewidth": 0,
              "ticks": ""
             }
            },
            "type": "parcoords"
           }
          ],
          "pie": [
           {
            "automargin": true,
            "type": "pie"
           }
          ],
          "scatter": [
           {
            "fillpattern": {
             "fillmode": "overlay",
             "size": 10,
             "solidity": 0.2
            },
            "type": "scatter"
           }
          ],
          "scatter3d": [
           {
            "line": {
             "colorbar": {
              "outlinewidth": 0,
              "ticks": ""
             }
            },
            "marker": {
             "colorbar": {
              "outlinewidth": 0,
              "ticks": ""
             }
            },
            "type": "scatter3d"
           }
          ],
          "scattercarpet": [
           {
            "marker": {
             "colorbar": {
              "outlinewidth": 0,
              "ticks": ""
             }
            },
            "type": "scattercarpet"
           }
          ],
          "scattergeo": [
           {
            "marker": {
             "colorbar": {
              "outlinewidth": 0,
              "ticks": ""
             }
            },
            "type": "scattergeo"
           }
          ],
          "scattergl": [
           {
            "marker": {
             "colorbar": {
              "outlinewidth": 0,
              "ticks": ""
             }
            },
            "type": "scattergl"
           }
          ],
          "scattermapbox": [
           {
            "marker": {
             "colorbar": {
              "outlinewidth": 0,
              "ticks": ""
             }
            },
            "type": "scattermapbox"
           }
          ],
          "scatterpolar": [
           {
            "marker": {
             "colorbar": {
              "outlinewidth": 0,
              "ticks": ""
             }
            },
            "type": "scatterpolar"
           }
          ],
          "scatterpolargl": [
           {
            "marker": {
             "colorbar": {
              "outlinewidth": 0,
              "ticks": ""
             }
            },
            "type": "scatterpolargl"
           }
          ],
          "scatterternary": [
           {
            "marker": {
             "colorbar": {
              "outlinewidth": 0,
              "ticks": ""
             }
            },
            "type": "scatterternary"
           }
          ],
          "surface": [
           {
            "colorbar": {
             "outlinewidth": 0,
             "ticks": ""
            },
            "colorscale": [
             [
              0,
              "#0d0887"
             ],
             [
              0.1111111111111111,
              "#46039f"
             ],
             [
              0.2222222222222222,
              "#7201a8"
             ],
             [
              0.3333333333333333,
              "#9c179e"
             ],
             [
              0.4444444444444444,
              "#bd3786"
             ],
             [
              0.5555555555555556,
              "#d8576b"
             ],
             [
              0.6666666666666666,
              "#ed7953"
             ],
             [
              0.7777777777777778,
              "#fb9f3a"
             ],
             [
              0.8888888888888888,
              "#fdca26"
             ],
             [
              1,
              "#f0f921"
             ]
            ],
            "type": "surface"
           }
          ],
          "table": [
           {
            "cells": {
             "fill": {
              "color": "#EBF0F8"
             },
             "line": {
              "color": "white"
             }
            },
            "header": {
             "fill": {
              "color": "#C8D4E3"
             },
             "line": {
              "color": "white"
             }
            },
            "type": "table"
           }
          ]
         },
         "layout": {
          "annotationdefaults": {
           "arrowcolor": "#2a3f5f",
           "arrowhead": 0,
           "arrowwidth": 1
          },
          "autotypenumbers": "strict",
          "coloraxis": {
           "colorbar": {
            "outlinewidth": 0,
            "ticks": ""
           }
          },
          "colorscale": {
           "diverging": [
            [
             0,
             "#8e0152"
            ],
            [
             0.1,
             "#c51b7d"
            ],
            [
             0.2,
             "#de77ae"
            ],
            [
             0.3,
             "#f1b6da"
            ],
            [
             0.4,
             "#fde0ef"
            ],
            [
             0.5,
             "#f7f7f7"
            ],
            [
             0.6,
             "#e6f5d0"
            ],
            [
             0.7,
             "#b8e186"
            ],
            [
             0.8,
             "#7fbc41"
            ],
            [
             0.9,
             "#4d9221"
            ],
            [
             1,
             "#276419"
            ]
           ],
           "sequential": [
            [
             0,
             "#0d0887"
            ],
            [
             0.1111111111111111,
             "#46039f"
            ],
            [
             0.2222222222222222,
             "#7201a8"
            ],
            [
             0.3333333333333333,
             "#9c179e"
            ],
            [
             0.4444444444444444,
             "#bd3786"
            ],
            [
             0.5555555555555556,
             "#d8576b"
            ],
            [
             0.6666666666666666,
             "#ed7953"
            ],
            [
             0.7777777777777778,
             "#fb9f3a"
            ],
            [
             0.8888888888888888,
             "#fdca26"
            ],
            [
             1,
             "#f0f921"
            ]
           ],
           "sequentialminus": [
            [
             0,
             "#0d0887"
            ],
            [
             0.1111111111111111,
             "#46039f"
            ],
            [
             0.2222222222222222,
             "#7201a8"
            ],
            [
             0.3333333333333333,
             "#9c179e"
            ],
            [
             0.4444444444444444,
             "#bd3786"
            ],
            [
             0.5555555555555556,
             "#d8576b"
            ],
            [
             0.6666666666666666,
             "#ed7953"
            ],
            [
             0.7777777777777778,
             "#fb9f3a"
            ],
            [
             0.8888888888888888,
             "#fdca26"
            ],
            [
             1,
             "#f0f921"
            ]
           ]
          },
          "colorway": [
           "#636efa",
           "#EF553B",
           "#00cc96",
           "#ab63fa",
           "#FFA15A",
           "#19d3f3",
           "#FF6692",
           "#B6E880",
           "#FF97FF",
           "#FECB52"
          ],
          "font": {
           "color": "#2a3f5f"
          },
          "geo": {
           "bgcolor": "white",
           "lakecolor": "white",
           "landcolor": "#E5ECF6",
           "showlakes": true,
           "showland": true,
           "subunitcolor": "white"
          },
          "hoverlabel": {
           "align": "left"
          },
          "hovermode": "closest",
          "mapbox": {
           "style": "light"
          },
          "paper_bgcolor": "white",
          "plot_bgcolor": "#E5ECF6",
          "polar": {
           "angularaxis": {
            "gridcolor": "white",
            "linecolor": "white",
            "ticks": ""
           },
           "bgcolor": "#E5ECF6",
           "radialaxis": {
            "gridcolor": "white",
            "linecolor": "white",
            "ticks": ""
           }
          },
          "scene": {
           "xaxis": {
            "backgroundcolor": "#E5ECF6",
            "gridcolor": "white",
            "gridwidth": 2,
            "linecolor": "white",
            "showbackground": true,
            "ticks": "",
            "zerolinecolor": "white"
           },
           "yaxis": {
            "backgroundcolor": "#E5ECF6",
            "gridcolor": "white",
            "gridwidth": 2,
            "linecolor": "white",
            "showbackground": true,
            "ticks": "",
            "zerolinecolor": "white"
           },
           "zaxis": {
            "backgroundcolor": "#E5ECF6",
            "gridcolor": "white",
            "gridwidth": 2,
            "linecolor": "white",
            "showbackground": true,
            "ticks": "",
            "zerolinecolor": "white"
           }
          },
          "shapedefaults": {
           "line": {
            "color": "#2a3f5f"
           }
          },
          "ternary": {
           "aaxis": {
            "gridcolor": "white",
            "linecolor": "white",
            "ticks": ""
           },
           "baxis": {
            "gridcolor": "white",
            "linecolor": "white",
            "ticks": ""
           },
           "bgcolor": "#E5ECF6",
           "caxis": {
            "gridcolor": "white",
            "linecolor": "white",
            "ticks": ""
           }
          },
          "title": {
           "x": 0.05
          },
          "xaxis": {
           "automargin": true,
           "gridcolor": "white",
           "linecolor": "white",
           "ticks": "",
           "title": {
            "standoff": 15
           },
           "zerolinecolor": "white",
           "zerolinewidth": 2
          },
          "yaxis": {
           "automargin": true,
           "gridcolor": "white",
           "linecolor": "white",
           "ticks": "",
           "title": {
            "standoff": 15
           },
           "zerolinecolor": "white",
           "zerolinewidth": 2
          }
         }
        },
        "title": {
         "text": "t-SNE Plot of Embeddings"
        },
        "xaxis": {
         "anchor": "y",
         "autorange": true,
         "domain": [
          0,
          1
         ],
         "range": [
          -8.112275817177512,
          5.593459822914817
         ],
         "title": {
          "text": "x"
         },
         "type": "linear"
        },
        "yaxis": {
         "anchor": "x",
         "autorange": true,
         "domain": [
          0,
          1
         ],
         "range": [
          -8.239278065348135,
          3.898200976038442
         ],
         "title": {
          "text": "y"
         },
         "type": "linear"
        }
       }
      },
      "image/png": "[encoded data removed]",
      "text/html": [
       "<div>                            <div id=\"89b79d53-19bf-49f5-bc0c-97cd7632252b\" class=\"plotly-graph-div\" style=\"height:525px; width:100%;\"></div>            <script type=\"text/javascript\">                require([\"plotly\"], function(Plotly) {                    window.PLOTLYENV=window.PLOTLYENV || {};                                    if (document.getElementById(\"89b79d53-19bf-49f5-bc0c-97cd7632252b\")) {                    Plotly.newPlot(                        \"89b79d53-19bf-49f5-bc0c-97cd7632252b\",                        [{\"customdata\":[[\"Head of Architecture - North America\"],[\"Full-stack Developer\"],[\"Product Manager\"],[\"Program Delivery Manager\"],[\"Product Strategy/Principal Industry Consultant\"],[\"Senior Software Developer | Consultant\"],[\"Data Architect\"],[\"Head of Development\"],[\"Project Management Consultant\"],[\"Senior Talent Acquisition Lead, North America\"],[\"Product Owner, Transportation & Logistics\"],[\"Head of Project Management & Analysis\"],[\"Development Consultant\"],[\"M&A Integration Program Manager - Americas\"],[\"Director; AGU Lead - Transportation and Logistics\"],[\"Head of User Experience & Research\"],[\"Principal Industry Consultant\"],[\"Software Engineer\"],[\"Software Developer\"],[\"Head of Learning and Organization Development, North America\"],[\"Application Architect / Design Lead\"],[\"Senior Consultant Financial Services\"],[\"Principal Engineering Consultant\"],[\"Onsite Technical Lead: Americas\"],[\"Development Consultant\"],[\"Senior Industry Consultant\"],[\"Sr Consulting Manager-Product Strategy-Banking, Financial Services and Payments\"],[\"Data Annotation Supervisor\"],[\"Head of Talent Acquisition, North America\"],[\"Senior Industry Consultant\"],[\"Business Analyst\"],[\"UX Designer\"],[\"Senior Software Engineer\"],[\"Product Owner\"],[\"Senior Industry Consultant\"],[\"VP Delivery Manager- Strategy - Retail and Corporate Banking\"],[\"Developer\"],[\"Senior Project Manager\"],[\"Senior Industry Consultant\"],[\"Solutions Delivery Consultant\"],[\"Senior Business Analyst\"],[\"Agile Project Manager\"],[\"Technical Product Design Analyst\"],[\"Senior Developer\"],[\"Senior Software Engineer\"],[\"Software Engineer II\"],[\"Programme and Portfolio Management Officer\"],[\"Agile Project Manager\"],[\"People Specialist\"],[\"Lead Product Strategist\"],[\"Senior Consultant\"],[\"Senior Programme and Portfolio Management Officer\"],[\"Pickleball Instructor (part-time)\"],[\"Connected Mobility and IIoT Consultant - Transportation, Logistics and Manufacturing\"],[\"Engineer Consultant\"],[\"Associate Engineering Consultant\"],[\"Senior Project Management Consultant\"],[\"Senior Research Consultant\"],[\"Senior Lead Software Engineer\"],[\"Senior Business Analyst\"],[\"Software Engineering Consultant\"],[\"Technical Lead\"],[\"CloudOps Manager\"],[\"Delivery Partner (3D Technical Artist)\"],[\"Global Head of Banking and Capital Markets Sales\"],[\"Senior Product Designer\"],[\"Agile Project Manager\"],[\"Senior Business Analyst\"],[\"Project Delivery Manager\"],[\"Senior Developer\"],[\"Cloud Architect\"],[\"Senior Business Analyst\"],[\"Marketing Developer\"],[\"Director\"],[\"Industry Consultant - Financial Services & Payments\"],[\"Sr Consultant\"],[\"Senior Delivery Manager\"],[\"Senior Architect\"],[\"Senior Data Scientist\"],[\"Owner | Head Writer\"],[\"Senior Business Consultant\"],[\"Software Quality Assurance Tester\"],[\"Engineering Consultant\"],[\"Principal Product Strategist\"],[\"UX Lead\"],[\"Senior UX Designer\"],[\"Senior Visual Designer\"],[\"Senior Software Engineer\"],[\"Software Engineer\"],[\"Developer\"],[\"Technical Artist\"],[\"Sr DecSecOps\"],[\"AR/AP Manager\"],[\"Senior Data Scientist\"],[\"Insurance Consultant\"]],\"hovertemplate\":\"x=%{x}<br>y=%{y}<br>label=%{customdata[0]}<extra></extra>\",\"legendgroup\":\"\",\"marker\":{\"color\":\"#636efa\",\"symbol\":\"circle\"},\"mode\":\"markers\",\"name\":\"\",\"orientation\":\"v\",\"showlegend\":false,\"x\":[-3.7176883220672607,-1.8920021057128906,-5.79838752746582,-1.5927622318267822,-3.267695188522339,-2.5762369632720947,-4.874321937561035,-2.8827764987945557,3.931691884994507,0.6366509795188904,-5.925736427307129,-2.10782527923584,1.933029294013977,-0.2233581393957138,2.3932836055755615,-5.335541248321533,2.5798075199127197,-0.30949336290359497,-0.9391942024230957,0.7848719954490662,-2.8057267665863037,-4.208336353302002,0.42806631326675415,0.6399701237678528,-0.2691393792629242,1.652789831161499,-4.41939640045166,-1.5156724452972412,2.3861029148101807,1.770641803741455,-5.370871543884277,-5.684333324432373,1.194449543952942,-2.2103800773620605,1.5346941947937012,-3.584397077560425,-2.222099781036377,-1.0914212465286255,-4.6853718757629395,2.837829351425171,-0.7528076171875,1.0764080286026,1.32675039768219,-0.14195381104946136,-0.4999305009841919,-1.271148443222046,-1.3683161735534668,-1.012798547744751,2.5364577770233154,-5.79024600982666,2.834686517715454,-1.8897501230239868,-2.475278615951538,-4.444396495819092,-2.1210715770721436,3.200855016708374,2.2157280445098877,3.4067490100860596,-3.5951027870178223,-1.6820566654205322,2.357166051864624,-1.9144231081008911,1.7451294660568237,-7.384158611297607,2.4363996982574463,-4.600676536560059,-0.23426242172718048,0.6557104587554932,-1.8112874031066895,-3.6431996822357178,-1.3153446912765503,0.1424957513809204,0.6650707721710205,1.2483972311019897,-4.63322114944458,0.514082133769989,-0.31766971945762634,-0.40655121207237244,1.102420449256897,-4.280477046966553,4.21462869644165,-6.35690450668335,3.90942645072937,-4.748449802398682,-5.365939617156982,-5.67753267288208,-7.0060343742370605,2.245948314666748,1.666232705116272,-1.2191851139068604,-7.357550144195557,3.5592970848083496,4.165590763092041,-1.4020992517471313,4.865342617034912],\"xaxis\":\"x\",\"y\":[-4.344359397888184,-5.388615131378174,-1.8295081853866577,1.6542439460754395,0.14268232882022858,-4.059985160827637,-4.58120584487915,-4.622891902923584,-1.7745658159255981,0.1910214126110077,-3.5617787837982178,-0.23484881222248077,-2.55928111076355,1.0582703351974487,-0.07493302971124649,0.22582419216632843,1.8237332105636597,-5.107870101928711,-6.512235641479492,0.40247291326522827,-5.079458713531494,-1.7908693552017212,-4.558324813842773,-2.498685121536255,-4.614079475402832,2.7076008319854736,-1.9257596731185913,-2.5549545288085938,0.3433302342891693,3.0384628772735596,-2.7060489654541016,1.1786906719207764,-3.0588207244873047,-1.6943423748016357,2.6464197635650635,-1.527280569076538,-3.592528820037842,0.018515825271606445,-4.373503684997559,-4.395162105560303,-1.3524900674819946,-0.716920018196106,-3.415648937225342,-6.3155317306518555,-5.5138444900512695,-5.794976711273193,0.38022148609161377,1.2277255058288574,-1.1944416761398315,-1.5112907886505127,1.2097771167755127,1.2078700065612793,-0.7132194638252258,-3.6708590984344482,-6.454192161560059,-3.11533784866333,-0.8816334009170532,-0.45556432008743286,-3.438613176345825,3.0309243202209473,-3.1771390438079834,-2.4305920600891113,-4.390552043914795,0.7032809853553772,2.0821495056152344,2.058368682861328,0.4264402687549591,-1.2112669944763184,2.293581962585449,-5.756558418273926,-3.9483542442321777,-1.8393110036849976,-5.534215450286865,-4.338316440582275,-2.3415164947509766,-3.197101354598999,-2.918637275695801,-3.7235419750213623,-7.071695804595947,-2.81022310256958,-3.810330629348755,-3.9255943298339844,-3.902194023132324,0.7252851724624634,1.0925688743591309,1.6623938083648682,0.7692090272903442,-5.418610572814941,-5.173569202423096,-7.379539966583252,0.7388889193534851,-5.808051109313965,0.16179920732975006,-4.863432884216309,-3.6845545768737793],\"yaxis\":\"y\",\"type\":\"scatter\"}],                        {\"template\":{\"data\":{\"histogram2dcontour\":[{\"type\":\"histogram2dcontour\",\"colorbar\":{\"outlinewidth\":0,\"ticks\":\"\"},\"colorscale\":[[0.0,\"#0d0887\"],[0.1111111111111111,\"#46039f\"],[0.2222222222222222,\"#7201a8\"],[0.3333333333333333,\"#9c179e\"],[0.4444444444444444,\"#bd3786\"],[0.5555555555555556,\"#d8576b\"],[0.6666666666666666,\"#ed7953\"],[0.7777777777777778,\"#fb9f3a\"],[0.8888888888888888,\"#fdca26\"],[1.0,\"#f0f921\"]]}],\"choropleth\":[{\"type\":\"choropleth\",\"colorbar\":{\"outlinewidth\":0,\"ticks\":\"\"}}],\"histogram2d\":[{\"type\":\"histogram2d\",\"colorbar\":{\"outlinewidth\":0,\"ticks\":\"\"},\"colorscale\":[[0.0,\"#0d0887\"],[0.1111111111111111,\"#46039f\"],[0.2222222222222222,\"#7201a8\"],[0.3333333333333333,\"#9c179e\"],[0.4444444444444444,\"#bd3786\"],[0.5555555555555556,\"#d8576b\"],[0.6666666666666666,\"#ed7953\"],[0.7777777777777778,\"#fb9f3a\"],[0.8888888888888888,\"#fdca26\"],[1.0,\"#f0f921\"]]}],\"heatmap\":[{\"type\":\"heatmap\",\"colorbar\":{\"outlinewidth\":0,\"ticks\":\"\"},\"colorscale\":[[0.0,\"#0d0887\"],[0.1111111111111111,\"#46039f\"],[0.2222222222222222,\"#7201a8\"],[0.3333333333333333,\"#9c179e\"],[0.4444444444444444,\"#bd3786\"],[0.5555555555555556,\"#d8576b\"],[0.6666666666666666,\"#ed7953\"],[0.7777777777777778,\"#fb9f3a\"],[0.8888888888888888,\"#fdca26\"],[1.0,\"#f0f921\"]]}],\"heatmapgl\":[{\"type\":\"heatmapgl\",\"colorbar\":{\"outlinewidth\":0,\"ticks\":\"\"},\"colorscale\":[[0.0,\"#0d0887\"],[0.1111111111111111,\"#46039f\"],[0.2222222222222222,\"#7201a8\"],[0.3333333333333333,\"#9c179e\"],[0.4444444444444444,\"#bd3786\"],[0.5555555555555556,\"#d8576b\"],[0.6666666666666666,\"#ed7953\"],[0.7777777777777778,\"#fb9f3a\"],[0.8888888888888888,\"#fdca26\"],[1.0,\"#f0f921\"]]}],\"contourcarpet\":[{\"type\":\"contourcarpet\",\"colorbar\":{\"outlinewidth\":0,\"ticks\":\"\"}}],\"contour\":[{\"type\":\"contour\",\"colorbar\":{\"outlinewidth\":0,\"ticks\":\"\"},\"colorscale\":[[0.0,\"#0d0887\"],[0.1111111111111111,\"#46039f\"],[0.2222222222222222,\"#7201a8\"],[0.3333333333333333,\"#9c179e\"],[0.4444444444444444,\"#bd3786\"],[0.5555555555555556,\"#d8576b\"],[0.6666666666666666,\"#ed7953\"],[0.7777777777777778,\"#fb9f3a\"],[0.8888888888888888,\"#fdca26\"],[1.0,\"#f0f921\"]]}],\"surface\":[{\"type\":\"surface\",\"colorbar\":{\"outlinewidth\":0,\"ticks\":\"\"},\"colorscale\":[[0.0,\"#0d0887\"],[0.1111111111111111,\"#46039f\"],[0.2222222222222222,\"#7201a8\"],[0.3333333333333333,\"#9c179e\"],[0.4444444444444444,\"#bd3786\"],[0.5555555555555556,\"#d8576b\"],[0.6666666666666666,\"#ed7953\"],[0.7777777777777778,\"#fb9f3a\"],[0.8888888888888888,\"#fdca26\"],[1.0,\"#f0f921\"]]}],\"mesh3d\":[{\"type\":\"mesh3d\",\"colorbar\":{\"outlinewidth\":0,\"ticks\":\"\"}}],\"scatter\":[{\"fillpattern\":{\"fillmode\":\"overlay\",\"size\":10,\"solidity\":0.2},\"type\":\"scatter\"}],\"parcoords\":[{\"type\":\"parcoords\",\"line\":{\"colorbar\":{\"outlinewidth\":0,\"ticks\":\"\"}}}],\"scatterpolargl\":[{\"type\":\"scatterpolargl\",\"marker\":{\"colorbar\":{\"outlinewidth\":0,\"ticks\":\"\"}}}],\"bar\":[{\"error_x\":{\"color\":\"#2a3f5f\"},\"error_y\":{\"color\":\"#2a3f5f\"},\"marker\":{\"line\":{\"color\":\"#E5ECF6\",\"width\":0.5},\"pattern\":{\"fillmode\":\"overlay\",\"size\":10,\"solidity\":0.2}},\"type\":\"bar\"}],\"scattergeo\":[{\"type\":\"scattergeo\",\"marker\":{\"colorbar\":{\"outlinewidth\":0,\"ticks\":\"\"}}}],\"scatterpolar\":[{\"type\":\"scatterpolar\",\"marker\":{\"colorbar\":{\"outlinewidth\":0,\"ticks\":\"\"}}}],\"histogram\":[{\"marker\":{\"pattern\":{\"fillmode\":\"overlay\",\"size\":10,\"solidity\":0.2}},\"type\":\"histogram\"}],\"scattergl\":[{\"type\":\"scattergl\",\"marker\":{\"colorbar\":{\"outlinewidth\":0,\"ticks\":\"\"}}}],\"scatter3d\":[{\"type\":\"scatter3d\",\"line\":{\"colorbar\":{\"outlinewidth\":0,\"ticks\":\"\"}},\"marker\":{\"colorbar\":{\"outlinewidth\":0,\"ticks\":\"\"}}}],\"scattermapbox\":[{\"type\":\"scattermapbox\",\"marker\":{\"colorbar\":{\"outlinewidth\":0,\"ticks\":\"\"}}}],\"scatterternary\":[{\"type\":\"scatterternary\",\"marker\":{\"colorbar\":{\"outlinewidth\":0,\"ticks\":\"\"}}}],\"scattercarpet\":[{\"type\":\"scattercarpet\",\"marker\":{\"colorbar\":{\"outlinewidth\":0,\"ticks\":\"\"}}}],\"carpet\":[{\"aaxis\":{\"endlinecolor\":\"#2a3f5f\",\"gridcolor\":\"white\",\"linecolor\":\"white\",\"minorgridcolor\":\"white\",\"startlinecolor\":\"#2a3f5f\"},\"baxis\":{\"endlinecolor\":\"#2a3f5f\",\"gridcolor\":\"white\",\"linecolor\":\"white\",\"minorgridcolor\":\"white\",\"startlinecolor\":\"#2a3f5f\"},\"type\":\"carpet\"}],\"table\":[{\"cells\":{\"fill\":{\"color\":\"#EBF0F8\"},\"line\":{\"color\":\"white\"}},\"header\":{\"fill\":{\"color\":\"#C8D4E3\"},\"line\":{\"color\":\"white\"}},\"type\":\"table\"}],\"barpolar\":[{\"marker\":{\"line\":{\"color\":\"#E5ECF6\",\"width\":0.5},\"pattern\":{\"fillmode\":\"overlay\",\"size\":10,\"solidity\":0.2}},\"type\":\"barpolar\"}],\"pie\":[{\"automargin\":true,\"type\":\"pie\"}]},\"layout\":{\"autotypenumbers\":\"strict\",\"colorway\":[\"#636efa\",\"#EF553B\",\"#00cc96\",\"#ab63fa\",\"#FFA15A\",\"#19d3f3\",\"#FF6692\",\"#B6E880\",\"#FF97FF\",\"#FECB52\"],\"font\":{\"color\":\"#2a3f5f\"},\"hovermode\":\"closest\",\"hoverlabel\":{\"align\":\"left\"},\"paper_bgcolor\":\"white\",\"plot_bgcolor\":\"#E5ECF6\",\"polar\":{\"bgcolor\":\"#E5ECF6\",\"angularaxis\":{\"gridcolor\":\"white\",\"linecolor\":\"white\",\"ticks\":\"\"},\"radialaxis\":{\"gridcolor\":\"white\",\"linecolor\":\"white\",\"ticks\":\"\"}},\"ternary\":{\"bgcolor\":\"#E5ECF6\",\"aaxis\":{\"gridcolor\":\"white\",\"linecolor\":\"white\",\"ticks\":\"\"},\"baxis\":{\"gridcolor\":\"white\",\"linecolor\":\"white\",\"ticks\":\"\"},\"caxis\":{\"gridcolor\":\"white\",\"linecolor\":\"white\",\"ticks\":\"\"}},\"coloraxis\":{\"colorbar\":{\"outlinewidth\":0,\"ticks\":\"\"}},\"colorscale\":{\"sequential\":[[0.0,\"#0d0887\"],[0.1111111111111111,\"#46039f\"],[0.2222222222222222,\"#7201a8\"],[0.3333333333333333,\"#9c179e\"],[0.4444444444444444,\"#bd3786\"],[0.5555555555555556,\"#d8576b\"],[0.6666666666666666,\"#ed7953\"],[0.7777777777777778,\"#fb9f3a\"],[0.8888888888888888,\"#fdca26\"],[1.0,\"#f0f921\"]],\"sequentialminus\":[[0.0,\"#0d0887\"],[0.1111111111111111,\"#46039f\"],[0.2222222222222222,\"#7201a8\"],[0.3333333333333333,\"#9c179e\"],[0.4444444444444444,\"#bd3786\"],[0.5555555555555556,\"#d8576b\"],[0.6666666666666666,\"#ed7953\"],[0.7777777777777778,\"#fb9f3a\"],[0.8888888888888888,\"#fdca26\"],[1.0,\"#f0f921\"]],\"diverging\":[[0,\"#8e0152\"],[0.1,\"#c51b7d\"],[0.2,\"#de77ae\"],[0.3,\"#f1b6da\"],[0.4,\"#fde0ef\"],[0.5,\"#f7f7f7\"],[0.6,\"#e6f5d0\"],[0.7,\"#b8e186\"],[0.8,\"#7fbc41\"],[0.9,\"#4d9221\"],[1,\"#276419\"]]},\"xaxis\":{\"gridcolor\":\"white\",\"linecolor\":\"white\",\"ticks\":\"\",\"title\":{\"standoff\":15},\"zerolinecolor\":\"white\",\"automargin\":true,\"zerolinewidth\":2},\"yaxis\":{\"gridcolor\":\"white\",\"linecolor\":\"white\",\"ticks\":\"\",\"title\":{\"standoff\":15},\"zerolinecolor\":\"white\",\"automargin\":true,\"zerolinewidth\":2},\"scene\":{\"xaxis\":{\"backgroundcolor\":\"#E5ECF6\",\"gridcolor\":\"white\",\"linecolor\":\"white\",\"showbackground\":true,\"ticks\":\"\",\"zerolinecolor\":\"white\",\"gridwidth\":2},\"yaxis\":{\"backgroundcolor\":\"#E5ECF6\",\"gridcolor\":\"white\",\"linecolor\":\"white\",\"showbackground\":true,\"ticks\":\"\",\"zerolinecolor\":\"white\",\"gridwidth\":2},\"zaxis\":{\"backgroundcolor\":\"#E5ECF6\",\"gridcolor\":\"white\",\"linecolor\":\"white\",\"showbackground\":true,\"ticks\":\"\",\"zerolinecolor\":\"white\",\"gridwidth\":2}},\"shapedefaults\":{\"line\":{\"color\":\"#2a3f5f\"}},\"annotationdefaults\":{\"arrowcolor\":\"#2a3f5f\",\"arrowhead\":0,\"arrowwidth\":1},\"geo\":{\"bgcolor\":\"white\",\"landcolor\":\"#E5ECF6\",\"subunitcolor\":\"white\",\"showland\":true,\"showlakes\":true,\"lakecolor\":\"white\"},\"title\":{\"x\":0.05},\"mapbox\":{\"style\":\"light\"}}},\"xaxis\":{\"anchor\":\"y\",\"domain\":[0.0,1.0],\"title\":{\"text\":\"x\"}},\"yaxis\":{\"anchor\":\"x\",\"domain\":[0.0,1.0],\"title\":{\"text\":\"y\"}},\"legend\":{\"tracegroupgap\":0},\"title\":{\"text\":\"t-SNE Plot of Embeddings\"}},                        {\"responsive\": true}                    ).then(function(){\n",
       "                            \n",
       "var gd = document.getElementById('89b79d53-19bf-49f5-bc0c-97cd7632252b');\n",
       "var x = new MutationObserver(function (mutations, observer) {{\n",
       "        var display = window.getComputedStyle(gd).display;\n",
       "        if (!display || display === 'none') {{\n",
       "            console.log([gd, 'removed!']);\n",
       "            Plotly.purge(gd);\n",
       "            observer.disconnect();\n",
       "        }}\n",
       "}});\n",
       "\n",
       "// Listen for the removal of the full notebook cells\n",
       "var notebookContainer = gd.closest('#notebook-container');\n",
       "if (notebookContainer) {{\n",
       "    x.observe(notebookContainer, {childList: true});\n",
       "}}\n",
       "\n",
       "// Listen for the clearing of the current output cell\n",
       "var outputEl = gd.closest('.output');\n",
       "if (outputEl) {{\n",
       "    x.observe(outputEl, {childList: true});\n",
       "}}\n",
       "\n",
       "                        })                };                });            </script>        </div>"
      ]
     },
     "metadata": {},
     "output_type": "display_data"
    }
   ],
   "source": [
    "# Create interactive plot\n",
    "fig = px.scatter(df, x='x', y='y', hover_data=['label'], title='t-SNE Plot of Embeddings')\n",
    "fig.show()"
   ]
  },
  {
   "cell_type": "code",
   "execution_count": 23,
   "id": "3ab0d798-d043-42ce-8276-02d4fb949842",
   "metadata": {},
   "outputs": [
    {
     "data": {
      "image/png": "[encoded data removed]",
      "text/plain": [
       "<PIL.JpegImagePlugin.JpegImageFile image mode=RGB size=400x400>"
      ]
     },
     "metadata": {},
     "output_type": "display_data"
    },
    {
     "data": {
      "image/png": "[encoded data removed]",
      "text/plain": [
       "<Figure size 432x288 with 1 Axes>"
      ]
     },
     "metadata": {
      "needs_background": "light"
     },
     "output_type": "display_data"
    }
   ],
   "source": [
    "# Assume profile_urls is a list of image URLs corresponding to each embedding\n",
    "profile_urls = [employee['pfp'] for employee in employees]\n",
    "\n",
    "import numpy as np\n",
    "import matplotlib.pyplot as plt\n",
    "from PIL import Image\n",
    "from IPython.display import display\n",
    "\n",
    "# Create a scatter plot\n",
    "x = np.random.randn(100)\n",
    "y = np.random.randn(100)\n",
    "plt.scatter(x, y)\n",
    "\n",
    "# Add an image to the plot\n",
    "img = Image.open(profile_urls[0])\n",
    "display(img)\n",
    "\n",
    "# Define a function to show the image on hover\n",
    "def show_image(event):\n",
    "    # Get the coordinates of the mouse cursor\n",
    "    x, y = event.xdata, event.ydata\n",
    "\n",
    "    # Check if the mouse cursor is over the image\n",
    "    if img.contains((x, y)):\n",
    "        # Display the image\n",
    "        display(img)\n",
    "\n",
    "# Connect the function to the plot\n",
    "plt.connect('motion_notify_event', show_image)\n",
    "\n",
    "# Show the plot\n",
    "plt.show()"
   ]
  },
  {
   "cell_type": "code",
   "execution_count": null,
   "id": "4e0118da-c420-4b0f-a277-5f4f80916d81",
   "metadata": {},
   "outputs": [],
   "source": []
  }
 ],
 "metadata": {
  "kernelspec": {
   "display_name": "Python 3 (ipykernel)",
   "language": "python",
   "name": "python3"
  },
  "language_info": {
   "codemirror_mode": {
    "name": "ipython",
    "version": 3
   },
   "file_extension": ".py",
   "mimetype": "text/x-python",
   "name": "python",
   "nbconvert_exporter": "python",
   "pygments_lexer": "ipython3",
   "version": "3.10.2"
  }
 },
 "nbformat": 4,
 "nbformat_minor": 5
}
